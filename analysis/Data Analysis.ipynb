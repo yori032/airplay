{
 "cells": [
  {
   "cell_type": "markdown",
   "metadata": {},
   "source": [
    "# data analysis for scraped airplay data\n",
    "## "
   ]
  },
  {
   "cell_type": "code",
   "execution_count": 1,
   "metadata": {},
   "outputs": [],
   "source": [
    "## if the modules are not found run the following command with the module name e.g.\n",
    "#!pip install pandas"
   ]
  },
  {
   "cell_type": "code",
   "execution_count": 60,
   "metadata": {},
   "outputs": [],
   "source": [
    "## import modules\n",
    "import pandas as pd\n",
    "import glob, os\n",
    "import matplotlib.pyplot as plt\n",
    "import seaborn as sns"
   ]
  },
  {
   "cell_type": "code",
   "execution_count": 61,
   "metadata": {},
   "outputs": [
    {
     "name": "stdout",
     "output_type": "stream",
     "text": [
      "['data\\\\20minfr.csv', 'data\\\\arg.csv', 'data\\\\bsk.csv', 'data\\\\drs1.csv', 'data\\\\fm1.csv', 'data\\\\mun.csv', 'data\\\\nrj.csv', 'data\\\\r24.csv', 'data\\\\rso.csv', 'data\\\\sun.csv', 'data\\\\zsee.csv']\n"
     ]
    }
   ],
   "source": [
    "## import data\n",
    "all_files = glob.glob(\"data/*.csv\") # \"../data/*.csv\"\n",
    "print(all_files)\n",
    "header_list= [\"airtime\", \"artist\", \"song\"]"
   ]
  },
  {
   "cell_type": "code",
   "execution_count": 62,
   "metadata": {},
   "outputs": [],
   "source": [
    "li = []\n",
    "\n",
    "for filename in all_files:\n",
    "    df = pd.read_csv(filename, usecols=[1,2,3], sep=',', names=header_list)\n",
    "    df[\"station\"] = filename\n",
    "    li.append(df)\n",
    "\n",
    "frame = pd.concat(li, ignore_index=True)"
   ]
  },
  {
   "cell_type": "code",
   "execution_count": 63,
   "metadata": {},
   "outputs": [
    {
     "data": {
      "text/plain": [
       "(1631631, 4)"
      ]
     },
     "execution_count": 63,
     "metadata": {},
     "output_type": "execute_result"
    }
   ],
   "source": [
    "frame.shape"
   ]
  },
  {
   "cell_type": "code",
   "execution_count": 64,
   "metadata": {},
   "outputs": [
    {
     "data": {
      "text/html": [
       "<div>\n",
       "<style scoped>\n",
       "    .dataframe tbody tr th:only-of-type {\n",
       "        vertical-align: middle;\n",
       "    }\n",
       "\n",
       "    .dataframe tbody tr th {\n",
       "        vertical-align: top;\n",
       "    }\n",
       "\n",
       "    .dataframe thead th {\n",
       "        text-align: right;\n",
       "    }\n",
       "</style>\n",
       "<table border=\"1\" class=\"dataframe\">\n",
       "  <thead>\n",
       "    <tr style=\"text-align: right;\">\n",
       "      <th></th>\n",
       "      <th>airtime</th>\n",
       "      <th>artist</th>\n",
       "      <th>song</th>\n",
       "      <th>station</th>\n",
       "    </tr>\n",
       "  </thead>\n",
       "  <tbody>\n",
       "    <tr>\n",
       "      <th>0</th>\n",
       "      <td>01.10.2020 00:02</td>\n",
       "      <td>Seeb x Zak Abel</td>\n",
       "      <td>Sad in Scandinavia</td>\n",
       "      <td>data\\20minfr.csv</td>\n",
       "    </tr>\n",
       "    <tr>\n",
       "      <th>1</th>\n",
       "      <td>01.10.2020 00:06</td>\n",
       "      <td>Ray Dalton</td>\n",
       "      <td>In My Bones</td>\n",
       "      <td>data\\20minfr.csv</td>\n",
       "    </tr>\n",
       "    <tr>\n",
       "      <th>2</th>\n",
       "      <td>01.10.2020 00:09</td>\n",
       "      <td>NaN</td>\n",
       "      <td>NaN</td>\n",
       "      <td>data\\20minfr.csv</td>\n",
       "    </tr>\n",
       "    <tr>\n",
       "      <th>3</th>\n",
       "      <td>01.10.2020 00:12</td>\n",
       "      <td>The Black Eyed Peas</td>\n",
       "      <td>Shut Up</td>\n",
       "      <td>data\\20minfr.csv</td>\n",
       "    </tr>\n",
       "    <tr>\n",
       "      <th>4</th>\n",
       "      <td>01.10.2020 00:17</td>\n",
       "      <td>Snakehips / Jess Glynne / A Boogie Wit Da Hood...</td>\n",
       "      <td>Lie For You</td>\n",
       "      <td>data\\20minfr.csv</td>\n",
       "    </tr>\n",
       "  </tbody>\n",
       "</table>\n",
       "</div>"
      ],
      "text/plain": [
       "            airtime                                             artist  \\\n",
       "0  01.10.2020 00:02                                    Seeb x Zak Abel   \n",
       "1  01.10.2020 00:06                                         Ray Dalton   \n",
       "2  01.10.2020 00:09                                                NaN   \n",
       "3  01.10.2020 00:12                                The Black Eyed Peas   \n",
       "4  01.10.2020 00:17  Snakehips / Jess Glynne / A Boogie Wit Da Hood...   \n",
       "\n",
       "                 song           station  \n",
       "0  Sad in Scandinavia  data\\20minfr.csv  \n",
       "1         In My Bones  data\\20minfr.csv  \n",
       "2                 NaN  data\\20minfr.csv  \n",
       "3             Shut Up  data\\20minfr.csv  \n",
       "4         Lie For You  data\\20minfr.csv  "
      ]
     },
     "execution_count": 64,
     "metadata": {},
     "output_type": "execute_result"
    }
   ],
   "source": [
    "frame.head()"
   ]
  },
  {
   "cell_type": "code",
   "execution_count": null,
   "metadata": {},
   "outputs": [],
   "source": []
  },
  {
   "cell_type": "code",
   "execution_count": 65,
   "metadata": {},
   "outputs": [],
   "source": [
    "## add station name to frame\n",
    "station_names_dictionary={  \"data\\\\20minfr.csv\" : \"20 Minuten Französisch\",\n",
    "                            \"data\\\\arg.csv\" : \"Radio Argovia\",\n",
    "                            \"data\\\\bsk.csv\" : \"Radio Basilisk\",\n",
    "                            \"data\\\\drs1.csv\" : \"Radio SRF1\",\n",
    "                            \"data\\\\fm1.csv\" : \"Radio FM1\",\n",
    "                            \"data\\\\mun.csv\" : \"Radio Munot\",\n",
    "                            #\"data\\\\neo1.csv\" : \"Neo 1\",\n",
    "                            \"data\\\\nrj.csv\" : \"EnergyBE/ZH/BS\",\n",
    "                            \"data\\\\r24.csv\" : \"Radio 24\",\n",
    "                            #\"data\\\\rl.csv\" : \"Radio Liechtenstein\",\n",
    "                            #\"data\\\\rro.csv\" : \"Radio Rottu Oberwallis\",\n",
    "                            \"data\\\\rso.csv\" : \"Radio Südostschweiz\",\n",
    "                            \"data\\\\sun.csv\" : \"Radio Sunshine\",\n",
    "                            \"data\\\\zsee.csv\" : \"Radio Zürichsee\"  \n",
    "                         }\n",
    "\n",
    "frame= frame.replace({\"station\": station_names_dictionary})"
   ]
  },
  {
   "cell_type": "code",
   "execution_count": 66,
   "metadata": {},
   "outputs": [
    {
     "data": {
      "text/html": [
       "<div>\n",
       "<style scoped>\n",
       "    .dataframe tbody tr th:only-of-type {\n",
       "        vertical-align: middle;\n",
       "    }\n",
       "\n",
       "    .dataframe tbody tr th {\n",
       "        vertical-align: top;\n",
       "    }\n",
       "\n",
       "    .dataframe thead th {\n",
       "        text-align: right;\n",
       "    }\n",
       "</style>\n",
       "<table border=\"1\" class=\"dataframe\">\n",
       "  <thead>\n",
       "    <tr style=\"text-align: right;\">\n",
       "      <th></th>\n",
       "      <th>airtime</th>\n",
       "      <th>artist</th>\n",
       "      <th>song</th>\n",
       "      <th>station</th>\n",
       "    </tr>\n",
       "  </thead>\n",
       "  <tbody>\n",
       "    <tr>\n",
       "      <th>0</th>\n",
       "      <td>01.10.2020 00:02</td>\n",
       "      <td>Seeb x Zak Abel</td>\n",
       "      <td>Sad in Scandinavia</td>\n",
       "      <td>20 Minuten Französisch</td>\n",
       "    </tr>\n",
       "    <tr>\n",
       "      <th>1</th>\n",
       "      <td>01.10.2020 00:06</td>\n",
       "      <td>Ray Dalton</td>\n",
       "      <td>In My Bones</td>\n",
       "      <td>20 Minuten Französisch</td>\n",
       "    </tr>\n",
       "    <tr>\n",
       "      <th>2</th>\n",
       "      <td>01.10.2020 00:09</td>\n",
       "      <td>NaN</td>\n",
       "      <td>NaN</td>\n",
       "      <td>20 Minuten Französisch</td>\n",
       "    </tr>\n",
       "    <tr>\n",
       "      <th>3</th>\n",
       "      <td>01.10.2020 00:12</td>\n",
       "      <td>The Black Eyed Peas</td>\n",
       "      <td>Shut Up</td>\n",
       "      <td>20 Minuten Französisch</td>\n",
       "    </tr>\n",
       "    <tr>\n",
       "      <th>4</th>\n",
       "      <td>01.10.2020 00:17</td>\n",
       "      <td>Snakehips / Jess Glynne / A Boogie Wit Da Hood...</td>\n",
       "      <td>Lie For You</td>\n",
       "      <td>20 Minuten Französisch</td>\n",
       "    </tr>\n",
       "  </tbody>\n",
       "</table>\n",
       "</div>"
      ],
      "text/plain": [
       "            airtime                                             artist  \\\n",
       "0  01.10.2020 00:02                                    Seeb x Zak Abel   \n",
       "1  01.10.2020 00:06                                         Ray Dalton   \n",
       "2  01.10.2020 00:09                                                NaN   \n",
       "3  01.10.2020 00:12                                The Black Eyed Peas   \n",
       "4  01.10.2020 00:17  Snakehips / Jess Glynne / A Boogie Wit Da Hood...   \n",
       "\n",
       "                 song                 station  \n",
       "0  Sad in Scandinavia  20 Minuten Französisch  \n",
       "1         In My Bones  20 Minuten Französisch  \n",
       "2                 NaN  20 Minuten Französisch  \n",
       "3             Shut Up  20 Minuten Französisch  \n",
       "4         Lie For You  20 Minuten Französisch  "
      ]
     },
     "execution_count": 66,
     "metadata": {},
     "output_type": "execute_result"
    }
   ],
   "source": [
    "frame.head()"
   ]
  },
  {
   "cell_type": "code",
   "execution_count": 67,
   "metadata": {},
   "outputs": [
    {
     "name": "stdout",
     "output_type": "stream",
     "text": [
      "<class 'pandas.core.frame.DataFrame'>\n",
      "RangeIndex: 1631631 entries, 0 to 1631630\n",
      "Data columns (total 4 columns):\n",
      " #   Column   Non-Null Count    Dtype \n",
      "---  ------   --------------    ----- \n",
      " 0   airtime  1631631 non-null  object\n",
      " 1   artist   1413874 non-null  object\n",
      " 2   song     1414117 non-null  object\n",
      " 3   station  1631631 non-null  object\n",
      "dtypes: object(4)\n",
      "memory usage: 49.8+ MB\n"
     ]
    }
   ],
   "source": [
    "frame.info()"
   ]
  },
  {
   "cell_type": "code",
   "execution_count": 68,
   "metadata": {},
   "outputs": [
    {
     "data": {
      "text/html": [
       "<div>\n",
       "<style scoped>\n",
       "    .dataframe tbody tr th:only-of-type {\n",
       "        vertical-align: middle;\n",
       "    }\n",
       "\n",
       "    .dataframe tbody tr th {\n",
       "        vertical-align: top;\n",
       "    }\n",
       "\n",
       "    .dataframe thead th {\n",
       "        text-align: right;\n",
       "    }\n",
       "</style>\n",
       "<table border=\"1\" class=\"dataframe\">\n",
       "  <thead>\n",
       "    <tr style=\"text-align: right;\">\n",
       "      <th></th>\n",
       "      <th>airtime</th>\n",
       "      <th>artist</th>\n",
       "      <th>song</th>\n",
       "      <th>station</th>\n",
       "    </tr>\n",
       "  </thead>\n",
       "  <tbody>\n",
       "    <tr>\n",
       "      <th>count</th>\n",
       "      <td>1631631</td>\n",
       "      <td>1413874</td>\n",
       "      <td>1414117</td>\n",
       "      <td>1631631</td>\n",
       "    </tr>\n",
       "    <tr>\n",
       "      <th>unique</th>\n",
       "      <td>527081</td>\n",
       "      <td>8444</td>\n",
       "      <td>16356</td>\n",
       "      <td>11</td>\n",
       "    </tr>\n",
       "    <tr>\n",
       "      <th>top</th>\n",
       "      <td>03.08.2021 15:49</td>\n",
       "      <td>Ava Max</td>\n",
       "      <td>Giants</td>\n",
       "      <td>Radio Munot</td>\n",
       "    </tr>\n",
       "    <tr>\n",
       "      <th>freq</th>\n",
       "      <td>12</td>\n",
       "      <td>19466</td>\n",
       "      <td>6753</td>\n",
       "      <td>325842</td>\n",
       "    </tr>\n",
       "  </tbody>\n",
       "</table>\n",
       "</div>"
      ],
      "text/plain": [
       "                 airtime   artist     song      station\n",
       "count            1631631  1413874  1414117      1631631\n",
       "unique            527081     8444    16356           11\n",
       "top     03.08.2021 15:49  Ava Max   Giants  Radio Munot\n",
       "freq                  12    19466     6753       325842"
      ]
     },
     "execution_count": 68,
     "metadata": {},
     "output_type": "execute_result"
    }
   ],
   "source": [
    "frame.describe()"
   ]
  },
  {
   "cell_type": "markdown",
   "metadata": {},
   "source": [
    "#### Clean up data "
   ]
  },
  {
   "cell_type": "code",
   "execution_count": 69,
   "metadata": {},
   "outputs": [
    {
     "name": "stdout",
     "output_type": "stream",
     "text": [
      "-------------------------------\n",
      "##### No.of null values\n",
      "airtime         0\n",
      "artist     217757\n",
      "song       217514\n",
      "station         0\n",
      "dtype: int64\n",
      "------------------------------\n",
      "##### Clean of null values\n",
      "airtime    0\n",
      "artist     0\n",
      "song       0\n",
      "station    0\n",
      "dtype: int64\n"
     ]
    }
   ],
   "source": [
    "## remove empty or with missing info data points\n",
    "print(\"-------------------------------\")\n",
    "print(\"##### No.of null values\")\n",
    "print(frame.isna().sum())\n",
    "# drop all rows with any NaN and NaT values\n",
    "frame = frame.dropna()\n",
    "print(\"------------------------------\")\n",
    "print(\"##### Clean of null values\")\n",
    "print(frame.isna().sum())"
   ]
  },
  {
   "cell_type": "code",
   "execution_count": 70,
   "metadata": {},
   "outputs": [],
   "source": [
    "## some datapoint ahve non standartized names for artists and songs\n",
    "## make all words camel case, strip empty spaces\n",
    "\n",
    "frame[\"artist\"]= [item.title().strip() for item in frame[\"artist\"]] \n",
    "frame[\"song\"]= [item.title().strip() for item in frame[\"song\"]] "
   ]
  },
  {
   "cell_type": "code",
   "execution_count": 71,
   "metadata": {},
   "outputs": [
    {
     "data": {
      "text/html": [
       "<div>\n",
       "<style scoped>\n",
       "    .dataframe tbody tr th:only-of-type {\n",
       "        vertical-align: middle;\n",
       "    }\n",
       "\n",
       "    .dataframe tbody tr th {\n",
       "        vertical-align: top;\n",
       "    }\n",
       "\n",
       "    .dataframe thead th {\n",
       "        text-align: right;\n",
       "    }\n",
       "</style>\n",
       "<table border=\"1\" class=\"dataframe\">\n",
       "  <thead>\n",
       "    <tr style=\"text-align: right;\">\n",
       "      <th></th>\n",
       "      <th>airtime</th>\n",
       "      <th>artist</th>\n",
       "      <th>song</th>\n",
       "      <th>station</th>\n",
       "    </tr>\n",
       "  </thead>\n",
       "  <tbody>\n",
       "    <tr>\n",
       "      <th>0</th>\n",
       "      <td>01.10.2020 00:02</td>\n",
       "      <td>Seeb X Zak Abel</td>\n",
       "      <td>Sad In Scandinavia</td>\n",
       "      <td>20 Minuten Französisch</td>\n",
       "    </tr>\n",
       "    <tr>\n",
       "      <th>1</th>\n",
       "      <td>01.10.2020 00:06</td>\n",
       "      <td>Ray Dalton</td>\n",
       "      <td>In My Bones</td>\n",
       "      <td>20 Minuten Französisch</td>\n",
       "    </tr>\n",
       "    <tr>\n",
       "      <th>3</th>\n",
       "      <td>01.10.2020 00:12</td>\n",
       "      <td>The Black Eyed Peas</td>\n",
       "      <td>Shut Up</td>\n",
       "      <td>20 Minuten Französisch</td>\n",
       "    </tr>\n",
       "    <tr>\n",
       "      <th>4</th>\n",
       "      <td>01.10.2020 00:17</td>\n",
       "      <td>Snakehips / Jess Glynne / A Boogie Wit Da Hood...</td>\n",
       "      <td>Lie For You</td>\n",
       "      <td>20 Minuten Französisch</td>\n",
       "    </tr>\n",
       "    <tr>\n",
       "      <th>5</th>\n",
       "      <td>01.10.2020 00:21</td>\n",
       "      <td>Jawsh 685 &amp; Jason Derulo</td>\n",
       "      <td>Savage Love (Laxed - Siren Beat)</td>\n",
       "      <td>20 Minuten Französisch</td>\n",
       "    </tr>\n",
       "  </tbody>\n",
       "</table>\n",
       "</div>"
      ],
      "text/plain": [
       "            airtime                                             artist  \\\n",
       "0  01.10.2020 00:02                                    Seeb X Zak Abel   \n",
       "1  01.10.2020 00:06                                         Ray Dalton   \n",
       "3  01.10.2020 00:12                                The Black Eyed Peas   \n",
       "4  01.10.2020 00:17  Snakehips / Jess Glynne / A Boogie Wit Da Hood...   \n",
       "5  01.10.2020 00:21                           Jawsh 685 & Jason Derulo   \n",
       "\n",
       "                               song                 station  \n",
       "0                Sad In Scandinavia  20 Minuten Französisch  \n",
       "1                       In My Bones  20 Minuten Französisch  \n",
       "3                           Shut Up  20 Minuten Französisch  \n",
       "4                       Lie For You  20 Minuten Französisch  \n",
       "5  Savage Love (Laxed - Siren Beat)  20 Minuten Französisch  "
      ]
     },
     "execution_count": 71,
     "metadata": {},
     "output_type": "execute_result"
    }
   ],
   "source": [
    "frame.head()"
   ]
  },
  {
   "cell_type": "code",
   "execution_count": 73,
   "metadata": {},
   "outputs": [
    {
     "data": {
      "image/png": "[encoded data removed]",
      "text/plain": [
       "<Figure size 864x504 with 1 Axes>"
      ]
     },
     "metadata": {
      "needs_background": "light"
     },
     "output_type": "display_data"
    }
   ],
   "source": [
    "## descriptive analysis \n",
    "## plot station distribution \n",
    "plt.figure(figsize=(12,7))\n",
    "ax= sns.countplot(x=frame[\"station\"])\n",
    "ax.set_xticklabels(ax.get_xticklabels(),rotation = 30)\n",
    "# uncomment if you want to save png\n",
    "#plt.savefig('station_dist.png', facecolor='w', bbox_inches='tight')\n",
    "plt.show()"
   ]
  },
  {
   "cell_type": "markdown",
   "metadata": {},
   "source": [
    "###  Analysis Questions \n",
    "1. Top most played songs for every station. How many times did they play it?"
   ]
  },
  {
   "cell_type": "code",
   "execution_count": 77,
   "metadata": {},
   "outputs": [],
   "source": [
    "all_stations= ordered_songs_per_station[\"station\"].unique()\n",
    "top_songs_list= []\n",
    "\n",
    "for item in all_stations:\n",
    "    #print(\"Station: \", item)\n",
    "    station_playlist=ordered_songs_per_station[ordered_songs_per_station[\"station\"]==item]\n",
    "    # index corresponding max value\n",
    "    i = station_playlist['counts'].idxmax()\n",
    "    # store the name corresponding this index\n",
    "    df = station_playlist.loc[station_playlist.counts.idxmax()]\n",
    "    top_songs_list.append(df)\n",
    "    \n",
    "top_songs_df = pd.DataFrame(top_songs_list)    "
   ]
  },
  {
   "cell_type": "code",
   "execution_count": 78,
   "metadata": {},
   "outputs": [
    {
     "data": {
      "text/plain": [
       "(array([ 0,  1,  2,  3,  4,  5,  6,  7,  8,  9, 10]),\n",
       " <a list of 11 Text major ticklabel objects>)"
      ]
     },
     "execution_count": 78,
     "metadata": {},
     "output_type": "execute_result"
    },
    {
     "data": {
      "image/png": "[encoded data removed]",
      "text/plain": [
       "<Figure size 432x288 with 1 Axes>"
      ]
     },
     "metadata": {
      "needs_background": "light"
     },
     "output_type": "display_data"
    }
   ],
   "source": [
    "splot= sns.barplot(data=top_songs_df, x='station', y='counts')\n",
    "plt.xticks(rotation=90)"
   ]
  },
  {
   "cell_type": "code",
   "execution_count": 79,
   "metadata": {},
   "outputs": [
    {
     "data": {
      "text/html": [
       "<div>\n",
       "<style scoped>\n",
       "    .dataframe tbody tr th:only-of-type {\n",
       "        vertical-align: middle;\n",
       "    }\n",
       "\n",
       "    .dataframe tbody tr th {\n",
       "        vertical-align: top;\n",
       "    }\n",
       "\n",
       "    .dataframe thead th {\n",
       "        text-align: right;\n",
       "    }\n",
       "</style>\n",
       "<table border=\"1\" class=\"dataframe\">\n",
       "  <thead>\n",
       "    <tr style=\"text-align: right;\">\n",
       "      <th></th>\n",
       "      <th>station</th>\n",
       "      <th>artist</th>\n",
       "      <th>song</th>\n",
       "      <th>counts</th>\n",
       "    </tr>\n",
       "  </thead>\n",
       "  <tbody>\n",
       "    <tr>\n",
       "      <th>435</th>\n",
       "      <td>20 Minuten Französisch</td>\n",
       "      <td>Vize &amp; Tom Gregory</td>\n",
       "      <td>Never Let Me Down</td>\n",
       "      <td>2801</td>\n",
       "    </tr>\n",
       "    <tr>\n",
       "      <th>1588</th>\n",
       "      <td>EnergyBE/ZH/BS</td>\n",
       "      <td>Robin Schulz Feat. Kiddo</td>\n",
       "      <td>All We Got</td>\n",
       "      <td>1142</td>\n",
       "    </tr>\n",
       "    <tr>\n",
       "      <th>2033</th>\n",
       "      <td>Radio 24</td>\n",
       "      <td>Bastian Baker</td>\n",
       "      <td>Dancing Without You</td>\n",
       "      <td>1242</td>\n",
       "    </tr>\n",
       "    <tr>\n",
       "      <th>5506</th>\n",
       "      <td>Radio Argovia</td>\n",
       "      <td>Twocolors</td>\n",
       "      <td>Lovefool</td>\n",
       "      <td>1076</td>\n",
       "    </tr>\n",
       "    <tr>\n",
       "      <th>8431</th>\n",
       "      <td>Radio Basilisk</td>\n",
       "      <td>Purple Disco Machine &amp; Sophie And The Giants</td>\n",
       "      <td>Hypnotized</td>\n",
       "      <td>514</td>\n",
       "    </tr>\n",
       "    <tr>\n",
       "      <th>10407</th>\n",
       "      <td>Radio FM1</td>\n",
       "      <td>Miley Cyrus</td>\n",
       "      <td>Midnight Sky</td>\n",
       "      <td>1164</td>\n",
       "    </tr>\n",
       "    <tr>\n",
       "      <th>12498</th>\n",
       "      <td>Radio Munot</td>\n",
       "      <td>Ofenbach Feat. Lagique</td>\n",
       "      <td>Wasted Love</td>\n",
       "      <td>688</td>\n",
       "    </tr>\n",
       "    <tr>\n",
       "      <th>20333</th>\n",
       "      <td>Radio SRF1</td>\n",
       "      <td>Paul Mccartney</td>\n",
       "      <td>Hope Of Deliverance</td>\n",
       "      <td>108</td>\n",
       "    </tr>\n",
       "    <tr>\n",
       "      <th>26564</th>\n",
       "      <td>Radio Sunshine</td>\n",
       "      <td>Purple Disco Machine &amp; Sophie And The Giants</td>\n",
       "      <td>Hypnotized</td>\n",
       "      <td>905</td>\n",
       "    </tr>\n",
       "    <tr>\n",
       "      <th>30519</th>\n",
       "      <td>Radio Südostschweiz</td>\n",
       "      <td>The Weeknd</td>\n",
       "      <td>Save Your Tears</td>\n",
       "      <td>1153</td>\n",
       "    </tr>\n",
       "    <tr>\n",
       "      <th>31844</th>\n",
       "      <td>Radio Zürichsee</td>\n",
       "      <td>Dermot Kennedy</td>\n",
       "      <td>Giants</td>\n",
       "      <td>562</td>\n",
       "    </tr>\n",
       "  </tbody>\n",
       "</table>\n",
       "</div>"
      ],
      "text/plain": [
       "                      station                                        artist  \\\n",
       "435    20 Minuten Französisch                            Vize & Tom Gregory   \n",
       "1588           EnergyBE/ZH/BS                      Robin Schulz Feat. Kiddo   \n",
       "2033                 Radio 24                                 Bastian Baker   \n",
       "5506            Radio Argovia                                     Twocolors   \n",
       "8431           Radio Basilisk  Purple Disco Machine & Sophie And The Giants   \n",
       "10407               Radio FM1                                   Miley Cyrus   \n",
       "12498             Radio Munot                        Ofenbach Feat. Lagique   \n",
       "20333              Radio SRF1                                Paul Mccartney   \n",
       "26564          Radio Sunshine  Purple Disco Machine & Sophie And The Giants   \n",
       "30519     Radio Südostschweiz                                    The Weeknd   \n",
       "31844         Radio Zürichsee                                Dermot Kennedy   \n",
       "\n",
       "                      song  counts  \n",
       "435      Never Let Me Down    2801  \n",
       "1588            All We Got    1142  \n",
       "2033   Dancing Without You    1242  \n",
       "5506              Lovefool    1076  \n",
       "8431            Hypnotized     514  \n",
       "10407         Midnight Sky    1164  \n",
       "12498          Wasted Love     688  \n",
       "20333  Hope Of Deliverance     108  \n",
       "26564           Hypnotized     905  \n",
       "30519      Save Your Tears    1153  \n",
       "31844               Giants     562  "
      ]
     },
     "execution_count": 79,
     "metadata": {},
     "output_type": "execute_result"
    }
   ],
   "source": [
    "top_songs_df"
   ]
  },
  {
   "cell_type": "markdown",
   "metadata": {},
   "source": [
    "2. Which songs does x station play, that other stations dont play"
   ]
  },
  {
   "cell_type": "code",
   "execution_count": 126,
   "metadata": {},
   "outputs": [],
   "source": [
    "## change the names of the 2 stations you want to compare\n",
    "primary=\"EnergyBE/ZH/BS\"\n",
    "second=\"Radio SRF1\" "
   ]
  },
  {
   "cell_type": "markdown",
   "metadata": {},
   "source": [
    "### List of songs on first station but not second"
   ]
  },
  {
   "cell_type": "code",
   "execution_count": 127,
   "metadata": {},
   "outputs": [],
   "source": [
    "df1= frame[frame[\"station\"]==primary][[\"artist\", \"song\"]]\n",
    "\n",
    "df2=frame[frame[\"station\"]==second][[\"artist\", \"song\"]]\n",
    "\n",
    "\n",
    "df_all = df1.merge(df2.drop_duplicates(), on=['artist','song'], \n",
    "                   how='left', indicator=True)"
   ]
  },
  {
   "cell_type": "code",
   "execution_count": 128,
   "metadata": {},
   "outputs": [],
   "source": [
    "unique_first_station=df_all[df_all[\"_merge\"]==\"left_only\"]\n",
    "unique_first_station=unique_first_station.drop(columns=\"_merge\")"
   ]
  },
  {
   "cell_type": "code",
   "execution_count": 129,
   "metadata": {},
   "outputs": [
    {
     "data": {
      "text/html": [
       "<div>\n",
       "<style scoped>\n",
       "    .dataframe tbody tr th:only-of-type {\n",
       "        vertical-align: middle;\n",
       "    }\n",
       "\n",
       "    .dataframe tbody tr th {\n",
       "        vertical-align: top;\n",
       "    }\n",
       "\n",
       "    .dataframe thead th {\n",
       "        text-align: right;\n",
       "    }\n",
       "</style>\n",
       "<table border=\"1\" class=\"dataframe\">\n",
       "  <thead>\n",
       "    <tr style=\"text-align: right;\">\n",
       "      <th></th>\n",
       "      <th>artist</th>\n",
       "      <th>song</th>\n",
       "    </tr>\n",
       "  </thead>\n",
       "  <tbody>\n",
       "    <tr>\n",
       "      <th>2</th>\n",
       "      <td>Alicia Keys</td>\n",
       "      <td>Love Looks Better</td>\n",
       "    </tr>\n",
       "    <tr>\n",
       "      <th>3</th>\n",
       "      <td>Nico Santos</td>\n",
       "      <td>Safe</td>\n",
       "    </tr>\n",
       "    <tr>\n",
       "      <th>4</th>\n",
       "      <td>Alessia Cara</td>\n",
       "      <td>Scars To Your Beautiful</td>\n",
       "    </tr>\n",
       "    <tr>\n",
       "      <th>8</th>\n",
       "      <td>Melanie Fiona</td>\n",
       "      <td>Monday Morning</td>\n",
       "    </tr>\n",
       "    <tr>\n",
       "      <th>10</th>\n",
       "      <td>Rudimental Feat. Jess Glynne, Macklemore &amp; Dan...</td>\n",
       "      <td>These Days</td>\n",
       "    </tr>\n",
       "  </tbody>\n",
       "</table>\n",
       "</div>"
      ],
      "text/plain": [
       "                                               artist                     song\n",
       "2                                         Alicia Keys        Love Looks Better\n",
       "3                                         Nico Santos                     Safe\n",
       "4                                        Alessia Cara  Scars To Your Beautiful\n",
       "8                                       Melanie Fiona           Monday Morning\n",
       "10  Rudimental Feat. Jess Glynne, Macklemore & Dan...               These Days"
      ]
     },
     "execution_count": 129,
     "metadata": {},
     "output_type": "execute_result"
    }
   ],
   "source": [
    "unique_first_station.head()"
   ]
  },
  {
   "cell_type": "markdown",
   "metadata": {},
   "source": [
    "### List of songs on second station but not first"
   ]
  },
  {
   "cell_type": "code",
   "execution_count": 130,
   "metadata": {},
   "outputs": [],
   "source": [
    "df_all = df2.merge(df1.drop_duplicates(), on=['artist','song'], \n",
    "                   how='left', indicator=True)\n",
    "unique_scnd_station=df_all[df_all[\"_merge\"]==\"left_only\"]\n",
    "unique_scnd_station=unique_scnd_station.drop(columns=\"_merge\")"
   ]
  },
  {
   "cell_type": "code",
   "execution_count": 131,
   "metadata": {},
   "outputs": [
    {
     "data": {
      "text/html": [
       "<div>\n",
       "<style scoped>\n",
       "    .dataframe tbody tr th:only-of-type {\n",
       "        vertical-align: middle;\n",
       "    }\n",
       "\n",
       "    .dataframe tbody tr th {\n",
       "        vertical-align: top;\n",
       "    }\n",
       "\n",
       "    .dataframe thead th {\n",
       "        text-align: right;\n",
       "    }\n",
       "</style>\n",
       "<table border=\"1\" class=\"dataframe\">\n",
       "  <thead>\n",
       "    <tr style=\"text-align: right;\">\n",
       "      <th></th>\n",
       "      <th>artist</th>\n",
       "      <th>song</th>\n",
       "    </tr>\n",
       "  </thead>\n",
       "  <tbody>\n",
       "    <tr>\n",
       "      <th>0</th>\n",
       "      <td>Bryan Adams</td>\n",
       "      <td>Summer Of '69</td>\n",
       "    </tr>\n",
       "    <tr>\n",
       "      <th>1</th>\n",
       "      <td>Israel Iz Kamakawiwo'Ole</td>\n",
       "      <td>Over The Rainbow</td>\n",
       "    </tr>\n",
       "    <tr>\n",
       "      <th>2</th>\n",
       "      <td>Julio Iglesias</td>\n",
       "      <td>Amor</td>\n",
       "    </tr>\n",
       "    <tr>\n",
       "      <th>3</th>\n",
       "      <td>Chica Torpedo</td>\n",
       "      <td>Uf De Feuge</td>\n",
       "    </tr>\n",
       "    <tr>\n",
       "      <th>4</th>\n",
       "      <td>Billy Swan</td>\n",
       "      <td>I Can Help</td>\n",
       "    </tr>\n",
       "  </tbody>\n",
       "</table>\n",
       "</div>"
      ],
      "text/plain": [
       "                     artist              song\n",
       "0               Bryan Adams     Summer Of '69\n",
       "1  Israel Iz Kamakawiwo'Ole  Over The Rainbow\n",
       "2            Julio Iglesias              Amor\n",
       "3             Chica Torpedo       Uf De Feuge\n",
       "4                Billy Swan        I Can Help"
      ]
     },
     "execution_count": 131,
     "metadata": {},
     "output_type": "execute_result"
    }
   ],
   "source": [
    "unique_scnd_station.head()"
   ]
  },
  {
   "cell_type": "code",
   "execution_count": 132,
   "metadata": {},
   "outputs": [
    {
     "name": "stdout",
     "output_type": "stream",
     "text": [
      "Number of unique songs in first: 72501.\n",
      "Number of unique songs in second: 66854.\n"
     ]
    }
   ],
   "source": [
    "unique_frst= unique_first_station.shape[0]\n",
    "unique_scnd= unique_scnd_station.shape[0]\n",
    "\n",
    "print(f'Number of unique songs in first: {unique_frst}.')\n",
    "print(f'Number of unique songs in second: {unique_scnd}.')"
   ]
  },
  {
   "cell_type": "code",
   "execution_count": 133,
   "metadata": {},
   "outputs": [],
   "source": [
    "## to store in file unique first station\n",
    "#filename_frst= f'IN {primary} NOT {second}'\n",
    "#unique_first_station.to_csv(filename, index=False)"
   ]
  },
  {
   "cell_type": "code",
   "execution_count": 134,
   "metadata": {},
   "outputs": [],
   "source": [
    "## to store in file unique second station\n",
    "#filename_frst= f'IN {second} NOT {primary}'\n",
    "#unique_scnd_station.to_csv(filename, index=False)"
   ]
  },
  {
   "cell_type": "markdown",
   "metadata": {},
   "source": [
    "3. Is station's (nrj.csv) playlist coppied by other stations? (On how many songs do the stations overlap on?) "
   ]
  },
  {
   "cell_type": "code",
   "execution_count": 135,
   "metadata": {},
   "outputs": [],
   "source": [
    "nrj_stat= frame[frame[\"station\"]==\"EnergyBE/ZH/BS\"][[\"artist\", \"song\"]]\n",
    "new_frame = frame.drop(nrj_stat.index)"
   ]
  },
  {
   "cell_type": "code",
   "execution_count": 136,
   "metadata": {},
   "outputs": [],
   "source": [
    "all_stations= new_frame[\"station\"].unique()\n",
    "songs_list= []\n",
    "\n",
    "for item in all_stations:\n",
    "    df2=frame[frame[\"station\"]==item][[\"artist\", \"song\"]]\n",
    "    df_all = df1.merge(df2.drop_duplicates(), on=['artist','song'], \n",
    "                   how='left', indicator=True)\n",
    "    #what are the similar songs\n",
    "    both_playlist= df_all[df_all[\"_merge\"]==\"both\"][[\"artist\", \"song\"]]\n",
    "    #store playlist\n",
    "    both_playlist.to_csv(f'copy/c_{item}')\n",
    "    songs_list.append([item, both_playlist])\n",
    "    \n"
   ]
  },
  {
   "cell_type": "code",
   "execution_count": 137,
   "metadata": {},
   "outputs": [
    {
     "data": {
      "text/plain": [
       "[['20 Minuten Französisch',\n",
       "                                              artist  \\\n",
       "  1                       Younotus & Janieck & Senex   \n",
       "  2                                      Alicia Keys   \n",
       "  4                                     Alessia Cara   \n",
       "  6                       Black Eyed Peas X J Balvin   \n",
       "  7       Master Kg Feat. Burna Boy & Nomcebo Zikode   \n",
       "  ...                                            ...   \n",
       "  131911                           Atb X Topic X A7S   \n",
       "  131917                 Meduza Feat. Dermot Kennedy   \n",
       "  131918                                  Mando Diao   \n",
       "  131923                         Jason Derulo X Nuka   \n",
       "  131924                                  Ray Dalton   \n",
       "  \n",
       "                                   song  \n",
       "  1                            Narcotic  \n",
       "  2                   Love Looks Better  \n",
       "  4             Scars To Your Beautiful  \n",
       "  6           Ritmo (Bad Boys For Life)  \n",
       "  7                  Jerusalema (Remix)  \n",
       "  ...                               ...  \n",
       "  131911                Your Love (9Pm)  \n",
       "  131917                       Paradise  \n",
       "  131918            Dance With Somebody  \n",
       "  131923  Love Not War (The Tampa Beat)  \n",
       "  131924          Good Times Hard Times  \n",
       "  \n",
       "  [56881 rows x 2 columns]],\n",
       " ['Radio Argovia',\n",
       "                                         artist                      song\n",
       "  0                                Jason Derulo          Take You Dancing\n",
       "  1                  Younotus & Janieck & Senex                  Narcotic\n",
       "  3                                 Nico Santos                      Safe\n",
       "  4                                Alessia Cara   Scars To Your Beautiful\n",
       "  5       Clean Bandit And Mabel Feat. 24Kgoldn                 Tick Tock\n",
       "  ...                                       ...                       ...\n",
       "  131927          Santana Feat. The Product G&B               Maria Maria\n",
       "  131928                             Luca Hänni                She Got Me\n",
       "  131929               24Kgoldn Feat. Iann Dior                      Mood\n",
       "  131930       Ckay Feat. Joeboy & Kuami Eugene  Love Nwantiti (Ah Ah Ah)\n",
       "  131931                                 K'Naan               Wavin' Flag\n",
       "  \n",
       "  [109284 rows x 2 columns]],\n",
       " ['Radio Basilisk',\n",
       "                                    artist                      song\n",
       "  0                           Jason Derulo          Take You Dancing\n",
       "  1             Younotus & Janieck & Senex                  Narcotic\n",
       "  2                            Alicia Keys         Love Looks Better\n",
       "  3                            Nico Santos                      Safe\n",
       "  4                           Alessia Cara   Scars To Your Beautiful\n",
       "  ...                                  ...                       ...\n",
       "  131926                            Shouse              Love Tonight\n",
       "  131927     Santana Feat. The Product G&B               Maria Maria\n",
       "  131928                        Luca Hänni                She Got Me\n",
       "  131930  Ckay Feat. Joeboy & Kuami Eugene  Love Nwantiti (Ah Ah Ah)\n",
       "  131931                            K'Naan               Wavin' Flag\n",
       "  \n",
       "  [111072 rows x 2 columns]],\n",
       " ['Radio SRF1',\n",
       "                                              artist  \\\n",
       "  0                                     Jason Derulo   \n",
       "  1                       Younotus & Janieck & Senex   \n",
       "  5            Clean Bandit And Mabel Feat. 24Kgoldn   \n",
       "  6                       Black Eyed Peas X J Balvin   \n",
       "  7       Master Kg Feat. Burna Boy & Nomcebo Zikode   \n",
       "  ...                                            ...   \n",
       "  131921                                  Ed Sheeran   \n",
       "  131923                         Jason Derulo X Nuka   \n",
       "  131926                                      Shouse   \n",
       "  131928                                  Luca Hänni   \n",
       "  131929                    24Kgoldn Feat. Iann Dior   \n",
       "  \n",
       "                                   song  \n",
       "  0                    Take You Dancing  \n",
       "  1                            Narcotic  \n",
       "  5                           Tick Tock  \n",
       "  6           Ritmo (Bad Boys For Life)  \n",
       "  7                  Jerusalema (Remix)  \n",
       "  ...                               ...  \n",
       "  131921                     Bad Habits  \n",
       "  131923  Love Not War (The Tampa Beat)  \n",
       "  131926                   Love Tonight  \n",
       "  131928                     She Got Me  \n",
       "  131929                           Mood  \n",
       "  \n",
       "  [59431 rows x 2 columns]],\n",
       " ['Radio FM1',\n",
       "                                         artist                     song\n",
       "  0                                Jason Derulo         Take You Dancing\n",
       "  1                  Younotus & Janieck & Senex                 Narcotic\n",
       "  3                                 Nico Santos                     Safe\n",
       "  4                                Alessia Cara  Scars To Your Beautiful\n",
       "  5       Clean Bandit And Mabel Feat. 24Kgoldn                Tick Tock\n",
       "  ...                                       ...                      ...\n",
       "  131924                             Ray Dalton    Good Times Hard Times\n",
       "  131925                                  Adele               Easy On Me\n",
       "  131927          Santana Feat. The Product G&B              Maria Maria\n",
       "  131928                             Luca Hänni               She Got Me\n",
       "  131931                                 K'Naan              Wavin' Flag\n",
       "  \n",
       "  [94619 rows x 2 columns]],\n",
       " ['Radio Munot',\n",
       "                                              artist  \\\n",
       "  0                                     Jason Derulo   \n",
       "  3                                      Nico Santos   \n",
       "  4                                     Alessia Cara   \n",
       "  7       Master Kg Feat. Burna Boy & Nomcebo Zikode   \n",
       "  8                                    Melanie Fiona   \n",
       "  ...                                            ...   \n",
       "  131921                                  Ed Sheeran   \n",
       "  131923                         Jason Derulo X Nuka   \n",
       "  131927               Santana Feat. The Product G&B   \n",
       "  131928                                  Luca Hänni   \n",
       "  131931                                      K'Naan   \n",
       "  \n",
       "                                   song  \n",
       "  0                    Take You Dancing  \n",
       "  3                                Safe  \n",
       "  4             Scars To Your Beautiful  \n",
       "  7                  Jerusalema (Remix)  \n",
       "  8                      Monday Morning  \n",
       "  ...                               ...  \n",
       "  131921                     Bad Habits  \n",
       "  131923  Love Not War (The Tampa Beat)  \n",
       "  131927                    Maria Maria  \n",
       "  131928                     She Got Me  \n",
       "  131931                    Wavin' Flag  \n",
       "  \n",
       "  [70568 rows x 2 columns]],\n",
       " ['Radio 24',\n",
       "                                         artist                     song\n",
       "  0                                Jason Derulo         Take You Dancing\n",
       "  1                  Younotus & Janieck & Senex                 Narcotic\n",
       "  3                                 Nico Santos                     Safe\n",
       "  4                                Alessia Cara  Scars To Your Beautiful\n",
       "  5       Clean Bandit And Mabel Feat. 24Kgoldn                Tick Tock\n",
       "  ...                                       ...                      ...\n",
       "  131926                                 Shouse             Love Tonight\n",
       "  131927          Santana Feat. The Product G&B              Maria Maria\n",
       "  131928                             Luca Hänni               She Got Me\n",
       "  131929               24Kgoldn Feat. Iann Dior                     Mood\n",
       "  131931                                 K'Naan              Wavin' Flag\n",
       "  \n",
       "  [112973 rows x 2 columns]],\n",
       " ['Radio Südostschweiz',\n",
       "                                         artist                     song\n",
       "  0                                Jason Derulo         Take You Dancing\n",
       "  1                  Younotus & Janieck & Senex                 Narcotic\n",
       "  3                                 Nico Santos                     Safe\n",
       "  4                                Alessia Cara  Scars To Your Beautiful\n",
       "  5       Clean Bandit And Mabel Feat. 24Kgoldn                Tick Tock\n",
       "  ...                                       ...                      ...\n",
       "  131925                                  Adele               Easy On Me\n",
       "  131927          Santana Feat. The Product G&B              Maria Maria\n",
       "  131928                             Luca Hänni               She Got Me\n",
       "  131929               24Kgoldn Feat. Iann Dior                     Mood\n",
       "  131931                                 K'Naan              Wavin' Flag\n",
       "  \n",
       "  [105648 rows x 2 columns]],\n",
       " ['Radio Sunshine',\n",
       "                                 artist                     song\n",
       "  0                        Jason Derulo         Take You Dancing\n",
       "  1          Younotus & Janieck & Senex                 Narcotic\n",
       "  2                         Alicia Keys        Love Looks Better\n",
       "  3                         Nico Santos                     Safe\n",
       "  4                        Alessia Cara  Scars To Your Beautiful\n",
       "  ...                               ...                      ...\n",
       "  131925                          Adele               Easy On Me\n",
       "  131927  Santana Feat. The Product G&B              Maria Maria\n",
       "  131928                     Luca Hänni               She Got Me\n",
       "  131929       24Kgoldn Feat. Iann Dior                     Mood\n",
       "  131931                         K'Naan              Wavin' Flag\n",
       "  \n",
       "  [119003 rows x 2 columns]],\n",
       " ['Radio Zürichsee',\n",
       "                                              artist                     song\n",
       "  0                                     Jason Derulo         Take You Dancing\n",
       "  4                                     Alessia Cara  Scars To Your Beautiful\n",
       "  5            Clean Bandit And Mabel Feat. 24Kgoldn                Tick Tock\n",
       "  7       Master Kg Feat. Burna Boy & Nomcebo Zikode       Jerusalema (Remix)\n",
       "  8                                    Melanie Fiona           Monday Morning\n",
       "  ...                                            ...                      ...\n",
       "  131926                                      Shouse             Love Tonight\n",
       "  131927               Santana Feat. The Product G&B              Maria Maria\n",
       "  131928                                  Luca Hänni               She Got Me\n",
       "  131929                    24Kgoldn Feat. Iann Dior                     Mood\n",
       "  131931                                      K'Naan              Wavin' Flag\n",
       "  \n",
       "  [106511 rows x 2 columns]]]"
      ]
     },
     "execution_count": 137,
     "metadata": {},
     "output_type": "execute_result"
    }
   ],
   "source": [
    "## all the common songs together \n",
    "songs_list"
   ]
  },
  {
   "cell_type": "code",
   "execution_count": null,
   "metadata": {},
   "outputs": [],
   "source": []
  }
 ],
 "metadata": {
  "kernelspec": {
   "display_name": "Python 3",
   "language": "python",
   "name": "python3"
  },
  "language_info": {
   "codemirror_mode": {
    "name": "ipython",
    "version": 3
   },
   "file_extension": ".py",
   "mimetype": "text/x-python",
   "name": "python",
   "nbconvert_exporter": "python",
   "pygments_lexer": "ipython3",
   "version": "3.8.3"
  }
 },
 "nbformat": 4,
 "nbformat_minor": 4
}

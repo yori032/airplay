{
 "cells": [
  {
   "cell_type": "markdown",
   "metadata": {},
   "source": [
    "# Data Analysis for Stations\n",
    "## "
   ]
  },
  {
   "cell_type": "code",
   "execution_count": 1,
   "metadata": {},
   "outputs": [],
   "source": [
    "## if the modules are not found run the following command with the module name e.g.\n",
    "##!pip install pandas"
   ]
  },
  {
   "cell_type": "code",
   "execution_count": 51,
   "metadata": {},
   "outputs": [],
   "source": [
    "## import modules\n",
    "import pandas as pd\n",
    "import glob, os\n",
    "import matplotlib.pyplot as plt\n",
    "import seaborn as sns"
   ]
  },
  {
   "cell_type": "code",
   "execution_count": 95,
   "metadata": {},
   "outputs": [
    {
     "name": "stdout",
     "output_type": "stream",
     "text": [
      "['data\\\\20minfr.csv', 'data\\\\arg.csv', 'data\\\\bsk.csv', 'data\\\\drs1.csv', 'data\\\\fm1.csv', 'data\\\\mun.csv', 'data\\\\neo1.csv', 'data\\\\nrj.csv', 'data\\\\r24.csv', 'data\\\\rl.csv', 'data\\\\rro.csv', 'data\\\\rso.csv', 'data\\\\sun.csv', 'data\\\\zsee.csv']\n"
     ]
    }
   ],
   "source": [
    "## import data\n",
    "all_files = glob.glob(\"data/*.csv\") # \"../data/*.csv\"\n",
    "print(all_files)\n",
    "header_list= [\"airtime\", \"artist\", \"song\"]"
   ]
  },
  {
   "cell_type": "code",
   "execution_count": 96,
   "metadata": {},
   "outputs": [],
   "source": [
    "li = []\n",
    "\n",
    "for filename in all_files:\n",
    "    df = pd.read_csv(filename, usecols=[1,2,3], sep=',', names=header_list)\n",
    "    df[\"station\"] = filename\n",
    "    li.append(df)\n",
    "\n",
    "frame = pd.concat(li, ignore_index=True)"
   ]
  },
  {
   "cell_type": "code",
   "execution_count": 97,
   "metadata": {},
   "outputs": [
    {
     "data": {
      "text/plain": [
       "(1951001, 4)"
      ]
     },
     "execution_count": 97,
     "metadata": {},
     "output_type": "execute_result"
    }
   ],
   "source": [
    "frame.shape"
   ]
  },
  {
   "cell_type": "code",
   "execution_count": 98,
   "metadata": {},
   "outputs": [
    {
     "data": {
      "text/html": [
       "<div>\n",
       "<style scoped>\n",
       "    .dataframe tbody tr th:only-of-type {\n",
       "        vertical-align: middle;\n",
       "    }\n",
       "\n",
       "    .dataframe tbody tr th {\n",
       "        vertical-align: top;\n",
       "    }\n",
       "\n",
       "    .dataframe thead th {\n",
       "        text-align: right;\n",
       "    }\n",
       "</style>\n",
       "<table border=\"1\" class=\"dataframe\">\n",
       "  <thead>\n",
       "    <tr style=\"text-align: right;\">\n",
       "      <th></th>\n",
       "      <th>airtime</th>\n",
       "      <th>artist</th>\n",
       "      <th>song</th>\n",
       "      <th>station</th>\n",
       "    </tr>\n",
       "  </thead>\n",
       "  <tbody>\n",
       "    <tr>\n",
       "      <th>0</th>\n",
       "      <td>01.10.2020 00:02</td>\n",
       "      <td>Seeb x Zak Abel</td>\n",
       "      <td>Sad in Scandinavia</td>\n",
       "      <td>data\\20minfr.csv</td>\n",
       "    </tr>\n",
       "    <tr>\n",
       "      <th>1</th>\n",
       "      <td>01.10.2020 00:06</td>\n",
       "      <td>Ray Dalton</td>\n",
       "      <td>In My Bones</td>\n",
       "      <td>data\\20minfr.csv</td>\n",
       "    </tr>\n",
       "    <tr>\n",
       "      <th>2</th>\n",
       "      <td>01.10.2020 00:09</td>\n",
       "      <td>NaN</td>\n",
       "      <td>NaN</td>\n",
       "      <td>data\\20minfr.csv</td>\n",
       "    </tr>\n",
       "    <tr>\n",
       "      <th>3</th>\n",
       "      <td>01.10.2020 00:12</td>\n",
       "      <td>The Black Eyed Peas</td>\n",
       "      <td>Shut Up</td>\n",
       "      <td>data\\20minfr.csv</td>\n",
       "    </tr>\n",
       "    <tr>\n",
       "      <th>4</th>\n",
       "      <td>01.10.2020 00:17</td>\n",
       "      <td>Snakehips / Jess Glynne / A Boogie Wit Da Hood...</td>\n",
       "      <td>Lie For You</td>\n",
       "      <td>data\\20minfr.csv</td>\n",
       "    </tr>\n",
       "  </tbody>\n",
       "</table>\n",
       "</div>"
      ],
      "text/plain": [
       "            airtime                                             artist  \\\n",
       "0  01.10.2020 00:02                                    Seeb x Zak Abel   \n",
       "1  01.10.2020 00:06                                         Ray Dalton   \n",
       "2  01.10.2020 00:09                                                NaN   \n",
       "3  01.10.2020 00:12                                The Black Eyed Peas   \n",
       "4  01.10.2020 00:17  Snakehips / Jess Glynne / A Boogie Wit Da Hood...   \n",
       "\n",
       "                 song           station  \n",
       "0  Sad in Scandinavia  data\\20minfr.csv  \n",
       "1         In My Bones  data\\20minfr.csv  \n",
       "2                 NaN  data\\20minfr.csv  \n",
       "3             Shut Up  data\\20minfr.csv  \n",
       "4         Lie For You  data\\20minfr.csv  "
      ]
     },
     "execution_count": 98,
     "metadata": {},
     "output_type": "execute_result"
    }
   ],
   "source": [
    "frame.head()"
   ]
  },
  {
   "cell_type": "code",
   "execution_count": null,
   "metadata": {},
   "outputs": [],
   "source": []
  },
  {
   "cell_type": "code",
   "execution_count": 82,
   "metadata": {},
   "outputs": [],
   "source": [
    "## add station name to frame\n",
    "station_names_dictionary={  \"data\\20minfr.csv\" : \"20 Minuten Französisch\",\n",
    "                            \"data\\arg.csv\" : \"Radio Argovia\",\n",
    "                            \"data\\bsk.csv\" : \"Radio Basilisk\",\n",
    "                            \"data\\drs1.csv\" : \"Radio SRF1\",\n",
    "                            \"data\\fm1.csv\" : \"Radio FM1\",\n",
    "                            \"data\\mun.csv\" : \"Radio Munot\",\n",
    "                            \"data\\neo1.csv\" : \"Neo 1\",\n",
    "                            \"data\\nrj.csv\" : \"EnergyBE/ZH/BS\",\n",
    "                            \"data\\r24.csv\" : \"Radio 24\",\n",
    "                            \"data\\rl.csv\" : \"Radio Liechtenstein\",\n",
    "                            \"data\\rro.csv\" : \"Radio Rottu Oberwallis\",\n",
    "                            \"data\\rso.csv\" : \"Radio Südostschweiz\",\n",
    "                            \"data\\sun.csv\" : \"Radio Sunshine\",\n",
    "                            \"data\\zsee.csv\" : \"Radio Zürichsee\"  \n",
    "                         }\n",
    "\n",
    "frame= frame.replace({\"station\": station_names_dictionary})"
   ]
  },
  {
   "cell_type": "code",
   "execution_count": 83,
   "metadata": {},
   "outputs": [
    {
     "data": {
      "text/html": [
       "<div>\n",
       "<style scoped>\n",
       "    .dataframe tbody tr th:only-of-type {\n",
       "        vertical-align: middle;\n",
       "    }\n",
       "\n",
       "    .dataframe tbody tr th {\n",
       "        vertical-align: top;\n",
       "    }\n",
       "\n",
       "    .dataframe thead th {\n",
       "        text-align: right;\n",
       "    }\n",
       "</style>\n",
       "<table border=\"1\" class=\"dataframe\">\n",
       "  <thead>\n",
       "    <tr style=\"text-align: right;\">\n",
       "      <th></th>\n",
       "      <th>airtime</th>\n",
       "      <th>artist</th>\n",
       "      <th>song</th>\n",
       "      <th>station</th>\n",
       "    </tr>\n",
       "  </thead>\n",
       "  <tbody>\n",
       "    <tr>\n",
       "      <th>0</th>\n",
       "      <td>01.10.2020 00:02</td>\n",
       "      <td>Seeb X Zak Abel</td>\n",
       "      <td>Sad In Scandinavia</td>\n",
       "      <td>data\\20minfr.csv</td>\n",
       "    </tr>\n",
       "    <tr>\n",
       "      <th>1</th>\n",
       "      <td>01.10.2020 00:06</td>\n",
       "      <td>Ray Dalton</td>\n",
       "      <td>In My Bones</td>\n",
       "      <td>data\\20minfr.csv</td>\n",
       "    </tr>\n",
       "    <tr>\n",
       "      <th>3</th>\n",
       "      <td>01.10.2020 00:12</td>\n",
       "      <td>The Black Eyed Peas</td>\n",
       "      <td>Shut Up</td>\n",
       "      <td>data\\20minfr.csv</td>\n",
       "    </tr>\n",
       "    <tr>\n",
       "      <th>4</th>\n",
       "      <td>01.10.2020 00:17</td>\n",
       "      <td>Snakehips / Jess Glynne / A Boogie Wit Da Hood...</td>\n",
       "      <td>Lie For You</td>\n",
       "      <td>data\\20minfr.csv</td>\n",
       "    </tr>\n",
       "    <tr>\n",
       "      <th>5</th>\n",
       "      <td>01.10.2020 00:21</td>\n",
       "      <td>Jawsh 685 &amp; Jason Derulo</td>\n",
       "      <td>Savage Love (Laxed - Siren Beat)</td>\n",
       "      <td>data\\20minfr.csv</td>\n",
       "    </tr>\n",
       "  </tbody>\n",
       "</table>\n",
       "</div>"
      ],
      "text/plain": [
       "            airtime                                             artist  \\\n",
       "0  01.10.2020 00:02                                    Seeb X Zak Abel   \n",
       "1  01.10.2020 00:06                                         Ray Dalton   \n",
       "3  01.10.2020 00:12                                The Black Eyed Peas   \n",
       "4  01.10.2020 00:17  Snakehips / Jess Glynne / A Boogie Wit Da Hood...   \n",
       "5  01.10.2020 00:21                           Jawsh 685 & Jason Derulo   \n",
       "\n",
       "                               song           station  \n",
       "0                Sad In Scandinavia  data\\20minfr.csv  \n",
       "1                       In My Bones  data\\20minfr.csv  \n",
       "3                           Shut Up  data\\20minfr.csv  \n",
       "4                       Lie For You  data\\20minfr.csv  \n",
       "5  Savage Love (Laxed - Siren Beat)  data\\20minfr.csv  "
      ]
     },
     "execution_count": 83,
     "metadata": {},
     "output_type": "execute_result"
    }
   ],
   "source": [
    "frame.head()"
   ]
  },
  {
   "cell_type": "code",
   "execution_count": 84,
   "metadata": {},
   "outputs": [
    {
     "name": "stdout",
     "output_type": "stream",
     "text": [
      "<class 'pandas.core.frame.DataFrame'>\n",
      "Int64Index: 1652827 entries, 0 to 1951000\n",
      "Data columns (total 4 columns):\n",
      " #   Column   Non-Null Count    Dtype \n",
      "---  ------   --------------    ----- \n",
      " 0   airtime  1652827 non-null  object\n",
      " 1   artist   1652827 non-null  object\n",
      " 2   song     1652827 non-null  object\n",
      " 3   station  1652827 non-null  object\n",
      "dtypes: object(4)\n",
      "memory usage: 63.1+ MB\n"
     ]
    }
   ],
   "source": [
    "frame.info()"
   ]
  },
  {
   "cell_type": "code",
   "execution_count": 85,
   "metadata": {},
   "outputs": [
    {
     "data": {
      "text/html": [
       "<div>\n",
       "<style scoped>\n",
       "    .dataframe tbody tr th:only-of-type {\n",
       "        vertical-align: middle;\n",
       "    }\n",
       "\n",
       "    .dataframe tbody tr th {\n",
       "        vertical-align: top;\n",
       "    }\n",
       "\n",
       "    .dataframe thead th {\n",
       "        text-align: right;\n",
       "    }\n",
       "</style>\n",
       "<table border=\"1\" class=\"dataframe\">\n",
       "  <thead>\n",
       "    <tr style=\"text-align: right;\">\n",
       "      <th></th>\n",
       "      <th>airtime</th>\n",
       "      <th>artist</th>\n",
       "      <th>song</th>\n",
       "      <th>station</th>\n",
       "    </tr>\n",
       "  </thead>\n",
       "  <tbody>\n",
       "    <tr>\n",
       "      <th>count</th>\n",
       "      <td>1652827</td>\n",
       "      <td>1652827</td>\n",
       "      <td>1652827</td>\n",
       "      <td>1652827</td>\n",
       "    </tr>\n",
       "    <tr>\n",
       "      <th>unique</th>\n",
       "      <td>530531</td>\n",
       "      <td>9568</td>\n",
       "      <td>19125</td>\n",
       "      <td>14</td>\n",
       "    </tr>\n",
       "    <tr>\n",
       "      <th>top</th>\n",
       "      <td>05.10.2020 10:41</td>\n",
       "      <td>Ava Max</td>\n",
       "      <td>Giants</td>\n",
       "      <td>data\\rso.csv</td>\n",
       "    </tr>\n",
       "    <tr>\n",
       "      <th>freq</th>\n",
       "      <td>11</td>\n",
       "      <td>20748</td>\n",
       "      <td>7328</td>\n",
       "      <td>151891</td>\n",
       "    </tr>\n",
       "  </tbody>\n",
       "</table>\n",
       "</div>"
      ],
      "text/plain": [
       "                 airtime   artist     song       station\n",
       "count            1652827  1652827  1652827       1652827\n",
       "unique            530531     9568    19125            14\n",
       "top     05.10.2020 10:41  Ava Max   Giants  data\\rso.csv\n",
       "freq                  11    20748     7328        151891"
      ]
     },
     "execution_count": 85,
     "metadata": {},
     "output_type": "execute_result"
    }
   ],
   "source": [
    "frame.describe()"
   ]
  },
  {
   "cell_type": "markdown",
   "metadata": {},
   "source": [
    "#### Clean up data "
   ]
  },
  {
   "cell_type": "code",
   "execution_count": 86,
   "metadata": {},
   "outputs": [
    {
     "name": "stdout",
     "output_type": "stream",
     "text": [
      "-------------------------------\n",
      "##### No.of null values\n",
      "airtime    0\n",
      "artist     0\n",
      "song       0\n",
      "station    0\n",
      "dtype: int64\n",
      "------------------------------\n",
      "##### Clean of null values\n",
      "airtime    0\n",
      "artist     0\n",
      "song       0\n",
      "station    0\n",
      "dtype: int64\n"
     ]
    }
   ],
   "source": [
    "## remove empty or with missing info data points\n",
    "print(\"-------------------------------\")\n",
    "print(\"##### No.of null values\")\n",
    "print(frame.isna().sum())\n",
    "# drop all rows with any NaN and NaT values\n",
    "frame = frame.dropna()\n",
    "print(\"------------------------------\")\n",
    "print(\"##### Clean of null values\")\n",
    "print(frame.isna().sum())"
   ]
  },
  {
   "cell_type": "code",
   "execution_count": 87,
   "metadata": {},
   "outputs": [],
   "source": [
    "## some datapoint ahve non standartized names for artists and songs\n",
    "## make all words camel case, strip empty spaces\n",
    "\n",
    "frame[\"artist\"]= [item.title().strip() for item in frame[\"artist\"]] \n",
    "frame[\"song\"]= [item.title().strip() for item in frame[\"song\"]] "
   ]
  },
  {
   "cell_type": "code",
   "execution_count": 88,
   "metadata": {},
   "outputs": [
    {
     "data": {
      "text/html": [
       "<div>\n",
       "<style scoped>\n",
       "    .dataframe tbody tr th:only-of-type {\n",
       "        vertical-align: middle;\n",
       "    }\n",
       "\n",
       "    .dataframe tbody tr th {\n",
       "        vertical-align: top;\n",
       "    }\n",
       "\n",
       "    .dataframe thead th {\n",
       "        text-align: right;\n",
       "    }\n",
       "</style>\n",
       "<table border=\"1\" class=\"dataframe\">\n",
       "  <thead>\n",
       "    <tr style=\"text-align: right;\">\n",
       "      <th></th>\n",
       "      <th>airtime</th>\n",
       "      <th>artist</th>\n",
       "      <th>song</th>\n",
       "      <th>station</th>\n",
       "    </tr>\n",
       "  </thead>\n",
       "  <tbody>\n",
       "    <tr>\n",
       "      <th>0</th>\n",
       "      <td>01.10.2020 00:02</td>\n",
       "      <td>Seeb X Zak Abel</td>\n",
       "      <td>Sad In Scandinavia</td>\n",
       "      <td>data\\20minfr.csv</td>\n",
       "    </tr>\n",
       "    <tr>\n",
       "      <th>1</th>\n",
       "      <td>01.10.2020 00:06</td>\n",
       "      <td>Ray Dalton</td>\n",
       "      <td>In My Bones</td>\n",
       "      <td>data\\20minfr.csv</td>\n",
       "    </tr>\n",
       "    <tr>\n",
       "      <th>3</th>\n",
       "      <td>01.10.2020 00:12</td>\n",
       "      <td>The Black Eyed Peas</td>\n",
       "      <td>Shut Up</td>\n",
       "      <td>data\\20minfr.csv</td>\n",
       "    </tr>\n",
       "    <tr>\n",
       "      <th>4</th>\n",
       "      <td>01.10.2020 00:17</td>\n",
       "      <td>Snakehips / Jess Glynne / A Boogie Wit Da Hood...</td>\n",
       "      <td>Lie For You</td>\n",
       "      <td>data\\20minfr.csv</td>\n",
       "    </tr>\n",
       "    <tr>\n",
       "      <th>5</th>\n",
       "      <td>01.10.2020 00:21</td>\n",
       "      <td>Jawsh 685 &amp; Jason Derulo</td>\n",
       "      <td>Savage Love (Laxed - Siren Beat)</td>\n",
       "      <td>data\\20minfr.csv</td>\n",
       "    </tr>\n",
       "  </tbody>\n",
       "</table>\n",
       "</div>"
      ],
      "text/plain": [
       "            airtime                                             artist  \\\n",
       "0  01.10.2020 00:02                                    Seeb X Zak Abel   \n",
       "1  01.10.2020 00:06                                         Ray Dalton   \n",
       "3  01.10.2020 00:12                                The Black Eyed Peas   \n",
       "4  01.10.2020 00:17  Snakehips / Jess Glynne / A Boogie Wit Da Hood...   \n",
       "5  01.10.2020 00:21                           Jawsh 685 & Jason Derulo   \n",
       "\n",
       "                               song           station  \n",
       "0                Sad In Scandinavia  data\\20minfr.csv  \n",
       "1                       In My Bones  data\\20minfr.csv  \n",
       "3                           Shut Up  data\\20minfr.csv  \n",
       "4                       Lie For You  data\\20minfr.csv  \n",
       "5  Savage Love (Laxed - Siren Beat)  data\\20minfr.csv  "
      ]
     },
     "execution_count": 88,
     "metadata": {},
     "output_type": "execute_result"
    }
   ],
   "source": [
    "frame.head()"
   ]
  },
  {
   "cell_type": "code",
   "execution_count": 89,
   "metadata": {},
   "outputs": [
    {
     "data": {
      "image/png": "[encoded data removed]",
      "text/plain": [
       "<Figure size 864x504 with 1 Axes>"
      ]
     },
     "metadata": {
      "needs_background": "light"
     },
     "output_type": "display_data"
    }
   ],
   "source": [
    "## descriptive analysis \n",
    "## plot station distribution \n",
    "plt.figure(figsize=(12,7))\n",
    "ax= sns.countplot(x=frame[\"station\"])\n",
    "ax.set_xticklabels(ax.get_xticklabels(),rotation = 30)\n",
    "# uncomment if you want to save png\n",
    "#plt.savefig('station_dist.png', facecolor='w', bbox_inches='tight')\n",
    "plt.show()"
   ]
  },
  {
   "cell_type": "markdown",
   "metadata": {},
   "source": [
    "###  Analysis Questions \n",
    "1. Top most played songs for every station. How many times did they play it?"
   ]
  },
  {
   "cell_type": "code",
   "execution_count": 90,
   "metadata": {
    "scrolled": false
   },
   "outputs": [
    {
     "data": {
      "text/html": [
       "<div>\n",
       "<style scoped>\n",
       "    .dataframe tbody tr th:only-of-type {\n",
       "        vertical-align: middle;\n",
       "    }\n",
       "\n",
       "    .dataframe tbody tr th {\n",
       "        vertical-align: top;\n",
       "    }\n",
       "\n",
       "    .dataframe thead th {\n",
       "        text-align: right;\n",
       "    }\n",
       "</style>\n",
       "<table border=\"1\" class=\"dataframe\">\n",
       "  <thead>\n",
       "    <tr style=\"text-align: right;\">\n",
       "      <th></th>\n",
       "      <th>station</th>\n",
       "      <th>artist</th>\n",
       "      <th>song</th>\n",
       "      <th>counts</th>\n",
       "    </tr>\n",
       "  </thead>\n",
       "  <tbody>\n",
       "    <tr>\n",
       "      <th>0</th>\n",
       "      <td>Radio Munot</td>\n",
       "      <td>10,000 Maniacs</td>\n",
       "      <td>Because The Night</td>\n",
       "      <td>6</td>\n",
       "    </tr>\n",
       "    <tr>\n",
       "      <th>1</th>\n",
       "      <td>Radio Munot</td>\n",
       "      <td>11Ã</td>\n",
       "      <td>Nei</td>\n",
       "      <td>1</td>\n",
       "    </tr>\n",
       "    <tr>\n",
       "      <th>2</th>\n",
       "      <td>Radio Munot</td>\n",
       "      <td>3 Doors Down</td>\n",
       "      <td>Here Without You</td>\n",
       "      <td>72</td>\n",
       "    </tr>\n",
       "    <tr>\n",
       "      <th>3</th>\n",
       "      <td>Radio Munot</td>\n",
       "      <td>4 Non Blondes</td>\n",
       "      <td>What'S Up?</td>\n",
       "      <td>126</td>\n",
       "    </tr>\n",
       "    <tr>\n",
       "      <th>4</th>\n",
       "      <td>Radio Munot</td>\n",
       "      <td>5 Seconds Of Summer</td>\n",
       "      <td>Teeth</td>\n",
       "      <td>22</td>\n",
       "    </tr>\n",
       "    <tr>\n",
       "      <th>...</th>\n",
       "      <td>...</td>\n",
       "      <td>...</td>\n",
       "      <td>...</td>\n",
       "      <td>...</td>\n",
       "    </tr>\n",
       "    <tr>\n",
       "      <th>49016</th>\n",
       "      <td>data\\rso.csv</td>\n",
       "      <td>Züri West</td>\n",
       "      <td>Goalie</td>\n",
       "      <td>65</td>\n",
       "    </tr>\n",
       "    <tr>\n",
       "      <th>49017</th>\n",
       "      <td>data\\rso.csv</td>\n",
       "      <td>Züri West</td>\n",
       "      <td>Göteborg</td>\n",
       "      <td>1</td>\n",
       "    </tr>\n",
       "    <tr>\n",
       "      <th>49018</th>\n",
       "      <td>data\\rso.csv</td>\n",
       "      <td>Züri West</td>\n",
       "      <td>I Schänke Dr Mis Härz</td>\n",
       "      <td>74</td>\n",
       "    </tr>\n",
       "    <tr>\n",
       "      <th>49019</th>\n",
       "      <td>data\\rso.csv</td>\n",
       "      <td>Züri West</td>\n",
       "      <td>Johnny &amp; Mary</td>\n",
       "      <td>21</td>\n",
       "    </tr>\n",
       "    <tr>\n",
       "      <th>49020</th>\n",
       "      <td>data\\rso.csv</td>\n",
       "      <td>Züri West</td>\n",
       "      <td>Lue Zersch Wohär Dass Dr Wind Wääit</td>\n",
       "      <td>2</td>\n",
       "    </tr>\n",
       "  </tbody>\n",
       "</table>\n",
       "<p>49021 rows × 4 columns</p>\n",
       "</div>"
      ],
      "text/plain": [
       "            station               artist                                 song  \\\n",
       "0       Radio Munot       10,000 Maniacs                    Because The Night   \n",
       "1       Radio Munot                 11Ã                                  Nei   \n",
       "2       Radio Munot         3 Doors Down                     Here Without You   \n",
       "3       Radio Munot        4 Non Blondes                           What'S Up?   \n",
       "4       Radio Munot  5 Seconds Of Summer                                Teeth   \n",
       "...             ...                  ...                                  ...   \n",
       "49016  data\\rso.csv            Züri West                               Goalie   \n",
       "49017  data\\rso.csv            Züri West                             Göteborg   \n",
       "49018  data\\rso.csv            Züri West                I Schänke Dr Mis Härz   \n",
       "49019  data\\rso.csv            Züri West                        Johnny & Mary   \n",
       "49020  data\\rso.csv            Züri West  Lue Zersch Wohär Dass Dr Wind Wääit   \n",
       "\n",
       "       counts  \n",
       "0           6  \n",
       "1           1  \n",
       "2          72  \n",
       "3         126  \n",
       "4          22  \n",
       "...       ...  \n",
       "49016      65  \n",
       "49017       1  \n",
       "49018      74  \n",
       "49019      21  \n",
       "49020       2  \n",
       "\n",
       "[49021 rows x 4 columns]"
      ]
     },
     "execution_count": 90,
     "metadata": {},
     "output_type": "execute_result"
    }
   ],
   "source": [
    "ordered_songs_per_station= frame.groupby(['station', 'artist', 'song']).size().reset_index(name='counts')\n",
    "ordered_songs_per_station"
   ]
  },
  {
   "cell_type": "code",
   "execution_count": 91,
   "metadata": {},
   "outputs": [],
   "source": [
    "all_stations= ordered_songs_per_station[\"station\"].unique()\n",
    "top_songs_list= []\n",
    "\n",
    "for item in all_stations:\n",
    "    #print(\"Station: \", item)\n",
    "    station_playlist=ordered_songs_per_station[ordered_songs_per_station[\"station\"]==item]\n",
    "    # index corresponding max value\n",
    "    i = station_playlist['counts'].idxmax()\n",
    "    # store the name corresponding this index\n",
    "    df = station_playlist.loc[station_playlist.counts.idxmax()]\n",
    "    top_songs_list.append(df)\n",
    "    \n",
    "top_songs_df = pd.DataFrame(top_songs_list)    "
   ]
  },
  {
   "cell_type": "code",
   "execution_count": 92,
   "metadata": {},
   "outputs": [
    {
     "data": {
      "text/plain": [
       "(array([ 0,  1,  2,  3,  4,  5,  6,  7,  8,  9, 10, 11, 12, 13]),\n",
       " <a list of 14 Text major ticklabel objects>)"
      ]
     },
     "execution_count": 92,
     "metadata": {},
     "output_type": "execute_result"
    },
    {
     "data": {
      "image/png": "[encoded data removed]",
      "text/plain": [
       "<Figure size 432x288 with 1 Axes>"
      ]
     },
     "metadata": {
      "needs_background": "light"
     },
     "output_type": "display_data"
    }
   ],
   "source": [
    "splot= sns.barplot(data=top_songs_df, x='station', y='counts')\n",
    "plt.xticks(rotation=90)"
   ]
  },
  {
   "cell_type": "code",
   "execution_count": 94,
   "metadata": {},
   "outputs": [
    {
     "data": {
      "text/html": [
       "<div>\n",
       "<style scoped>\n",
       "    .dataframe tbody tr th:only-of-type {\n",
       "        vertical-align: middle;\n",
       "    }\n",
       "\n",
       "    .dataframe tbody tr th {\n",
       "        vertical-align: top;\n",
       "    }\n",
       "\n",
       "    .dataframe thead th {\n",
       "        text-align: right;\n",
       "    }\n",
       "</style>\n",
       "<table border=\"1\" class=\"dataframe\">\n",
       "  <thead>\n",
       "    <tr style=\"text-align: right;\">\n",
       "      <th></th>\n",
       "      <th>station</th>\n",
       "      <th>artist</th>\n",
       "      <th>song</th>\n",
       "      <th>counts</th>\n",
       "    </tr>\n",
       "  </thead>\n",
       "  <tbody>\n",
       "    <tr>\n",
       "      <th>1518</th>\n",
       "      <td>Radio Munot</td>\n",
       "      <td>Ofenbach Feat. Lagique</td>\n",
       "      <td>Wasted Love</td>\n",
       "      <td>688</td>\n",
       "    </tr>\n",
       "    <tr>\n",
       "      <th>9353</th>\n",
       "      <td>Radio SRF1</td>\n",
       "      <td>Paul Mccartney</td>\n",
       "      <td>Hope Of Deliverance</td>\n",
       "      <td>108</td>\n",
       "    </tr>\n",
       "    <tr>\n",
       "      <th>15584</th>\n",
       "      <td>Radio Sunshine</td>\n",
       "      <td>Purple Disco Machine &amp; Sophie And The Giants</td>\n",
       "      <td>Hypnotized</td>\n",
       "      <td>905</td>\n",
       "    </tr>\n",
       "    <tr>\n",
       "      <th>17593</th>\n",
       "      <td>Radio Zürichsee</td>\n",
       "      <td>Dermot Kennedy</td>\n",
       "      <td>Giants</td>\n",
       "      <td>562</td>\n",
       "    </tr>\n",
       "    <tr>\n",
       "      <th>21780</th>\n",
       "      <td>data\\20minfr.csv</td>\n",
       "      <td>Vize &amp; Tom Gregory</td>\n",
       "      <td>Never Let Me Down</td>\n",
       "      <td>2801</td>\n",
       "    </tr>\n",
       "    <tr>\n",
       "      <th>23511</th>\n",
       "      <td>data\\arg.csv</td>\n",
       "      <td>Twocolors</td>\n",
       "      <td>Lovefool</td>\n",
       "      <td>1076</td>\n",
       "    </tr>\n",
       "    <tr>\n",
       "      <th>26436</th>\n",
       "      <td>data\\bsk.csv</td>\n",
       "      <td>Purple Disco Machine &amp; Sophie And The Giants</td>\n",
       "      <td>Hypnotized</td>\n",
       "      <td>514</td>\n",
       "    </tr>\n",
       "    <tr>\n",
       "      <th>28412</th>\n",
       "      <td>data\\fm1.csv</td>\n",
       "      <td>Miley Cyrus</td>\n",
       "      <td>Midnight Sky</td>\n",
       "      <td>1164</td>\n",
       "    </tr>\n",
       "    <tr>\n",
       "      <th>32784</th>\n",
       "      <td>data\\neo1.csv</td>\n",
       "      <td>The Weeknd</td>\n",
       "      <td>Save Your Tears</td>\n",
       "      <td>350</td>\n",
       "    </tr>\n",
       "    <tr>\n",
       "      <th>34244</th>\n",
       "      <td>data\\nrj.csv</td>\n",
       "      <td>Robin Schulz Feat. Kiddo</td>\n",
       "      <td>All We Got</td>\n",
       "      <td>1142</td>\n",
       "    </tr>\n",
       "    <tr>\n",
       "      <th>34689</th>\n",
       "      <td>data\\r24.csv</td>\n",
       "      <td>Bastian Baker</td>\n",
       "      <td>Dancing Without You</td>\n",
       "      <td>1242</td>\n",
       "    </tr>\n",
       "    <tr>\n",
       "      <th>39538</th>\n",
       "      <td>data\\rl.csv</td>\n",
       "      <td>John Newman</td>\n",
       "      <td>Stand By Me</td>\n",
       "      <td>173</td>\n",
       "    </tr>\n",
       "    <tr>\n",
       "      <th>44294</th>\n",
       "      <td>data\\rro.csv</td>\n",
       "      <td>Harry Styles</td>\n",
       "      <td>Watermelon Sugar</td>\n",
       "      <td>245</td>\n",
       "    </tr>\n",
       "    <tr>\n",
       "      <th>48787</th>\n",
       "      <td>data\\rso.csv</td>\n",
       "      <td>The Weeknd</td>\n",
       "      <td>Save Your Tears</td>\n",
       "      <td>1153</td>\n",
       "    </tr>\n",
       "  </tbody>\n",
       "</table>\n",
       "</div>"
      ],
      "text/plain": [
       "                station                                        artist  \\\n",
       "1518        Radio Munot                        Ofenbach Feat. Lagique   \n",
       "9353         Radio SRF1                                Paul Mccartney   \n",
       "15584    Radio Sunshine  Purple Disco Machine & Sophie And The Giants   \n",
       "17593   Radio Zürichsee                                Dermot Kennedy   \n",
       "21780  data\\20minfr.csv                            Vize & Tom Gregory   \n",
       "23511      data\\arg.csv                                     Twocolors   \n",
       "26436      data\\bsk.csv  Purple Disco Machine & Sophie And The Giants   \n",
       "28412      data\\fm1.csv                                   Miley Cyrus   \n",
       "32784     data\\neo1.csv                                    The Weeknd   \n",
       "34244      data\\nrj.csv                      Robin Schulz Feat. Kiddo   \n",
       "34689      data\\r24.csv                                 Bastian Baker   \n",
       "39538       data\\rl.csv                                   John Newman   \n",
       "44294      data\\rro.csv                                  Harry Styles   \n",
       "48787      data\\rso.csv                                    The Weeknd   \n",
       "\n",
       "                      song  counts  \n",
       "1518           Wasted Love     688  \n",
       "9353   Hope Of Deliverance     108  \n",
       "15584           Hypnotized     905  \n",
       "17593               Giants     562  \n",
       "21780    Never Let Me Down    2801  \n",
       "23511             Lovefool    1076  \n",
       "26436           Hypnotized     514  \n",
       "28412         Midnight Sky    1164  \n",
       "32784      Save Your Tears     350  \n",
       "34244           All We Got    1142  \n",
       "34689  Dancing Without You    1242  \n",
       "39538          Stand By Me     173  \n",
       "44294     Watermelon Sugar     245  \n",
       "48787      Save Your Tears    1153  "
      ]
     },
     "execution_count": 94,
     "metadata": {},
     "output_type": "execute_result"
    }
   ],
   "source": [
    "top_songs_df"
   ]
  },
  {
   "cell_type": "markdown",
   "metadata": {},
   "source": [
    "2. Which songs does x station play, that other stations dont play"
   ]
  },
  {
   "cell_type": "code",
   "execution_count": 38,
   "metadata": {},
   "outputs": [],
   "source": [
    "## change the names of the 2 stations you want to compare\n",
    "primary=\"Radio Argovia\"\n",
    "second=\"Radio Basilisk\" "
   ]
  },
  {
   "cell_type": "markdown",
   "metadata": {},
   "source": [
    "### List of songs on first station but not second"
   ]
  },
  {
   "cell_type": "code",
   "execution_count": 39,
   "metadata": {},
   "outputs": [],
   "source": [
    "df1= frame[frame[\"station\"]==primary][[\"artist\", \"song\"]]\n",
    "\n",
    "df2=frame[frame[\"station\"]==second][[\"artist\", \"song\"]]\n",
    "\n",
    "\n",
    "df_all = df1.merge(df2.drop_duplicates(), on=['artist','song'], \n",
    "                   how='left', indicator=True)"
   ]
  },
  {
   "cell_type": "code",
   "execution_count": 40,
   "metadata": {},
   "outputs": [],
   "source": [
    "unique_first_station=df_all[df_all[\"_merge\"]==\"left_only\"]\n",
    "unique_first_station=unique_first_station.drop(columns=\"_merge\")"
   ]
  },
  {
   "cell_type": "code",
   "execution_count": 41,
   "metadata": {},
   "outputs": [
    {
     "data": {
      "text/html": [
       "<div>\n",
       "<style scoped>\n",
       "    .dataframe tbody tr th:only-of-type {\n",
       "        vertical-align: middle;\n",
       "    }\n",
       "\n",
       "    .dataframe tbody tr th {\n",
       "        vertical-align: top;\n",
       "    }\n",
       "\n",
       "    .dataframe thead th {\n",
       "        text-align: right;\n",
       "    }\n",
       "</style>\n",
       "<table border=\"1\" class=\"dataframe\">\n",
       "  <thead>\n",
       "    <tr style=\"text-align: right;\">\n",
       "      <th></th>\n",
       "      <th>artist</th>\n",
       "      <th>song</th>\n",
       "    </tr>\n",
       "  </thead>\n",
       "  <tbody>\n",
       "  </tbody>\n",
       "</table>\n",
       "</div>"
      ],
      "text/plain": [
       "Empty DataFrame\n",
       "Columns: [artist, song]\n",
       "Index: []"
      ]
     },
     "execution_count": 41,
     "metadata": {},
     "output_type": "execute_result"
    }
   ],
   "source": [
    "unique_first_station.head()"
   ]
  },
  {
   "cell_type": "markdown",
   "metadata": {},
   "source": [
    "### List of songs on second station but not first"
   ]
  },
  {
   "cell_type": "code",
   "execution_count": 42,
   "metadata": {},
   "outputs": [],
   "source": [
    "df_all = df2.merge(df1.drop_duplicates(), on=['artist','song'], \n",
    "                   how='left', indicator=True)\n",
    "unique_scnd_station=df_all[df_all[\"_merge\"]==\"left_only\"]\n",
    "unique_scnd_station=unique_scnd_station.drop(columns=\"_merge\")"
   ]
  },
  {
   "cell_type": "code",
   "execution_count": 43,
   "metadata": {},
   "outputs": [
    {
     "data": {
      "text/html": [
       "<div>\n",
       "<style scoped>\n",
       "    .dataframe tbody tr th:only-of-type {\n",
       "        vertical-align: middle;\n",
       "    }\n",
       "\n",
       "    .dataframe tbody tr th {\n",
       "        vertical-align: top;\n",
       "    }\n",
       "\n",
       "    .dataframe thead th {\n",
       "        text-align: right;\n",
       "    }\n",
       "</style>\n",
       "<table border=\"1\" class=\"dataframe\">\n",
       "  <thead>\n",
       "    <tr style=\"text-align: right;\">\n",
       "      <th></th>\n",
       "      <th>artist</th>\n",
       "      <th>song</th>\n",
       "    </tr>\n",
       "  </thead>\n",
       "  <tbody>\n",
       "  </tbody>\n",
       "</table>\n",
       "</div>"
      ],
      "text/plain": [
       "Empty DataFrame\n",
       "Columns: [artist, song]\n",
       "Index: []"
      ]
     },
     "execution_count": 43,
     "metadata": {},
     "output_type": "execute_result"
    }
   ],
   "source": [
    "unique_scnd_station.head()"
   ]
  },
  {
   "cell_type": "code",
   "execution_count": 44,
   "metadata": {},
   "outputs": [
    {
     "name": "stdout",
     "output_type": "stream",
     "text": [
      "Number of unique songs in first: 0.\n",
      "Number of unique songs in second: 0.\n"
     ]
    }
   ],
   "source": [
    "unique_frst= unique_first_station.shape[0]\n",
    "unique_scnd= unique_scnd_station.shape[0]\n",
    "\n",
    "print(f'Number of unique songs in first: {unique_frst}.')\n",
    "print(f'Number of unique songs in second: {unique_scnd}.')"
   ]
  },
  {
   "cell_type": "code",
   "execution_count": 45,
   "metadata": {},
   "outputs": [],
   "source": [
    "## to store in file unique first station\n",
    "#filename_frst= f'IN {primary} NOT {second}'\n",
    "#unique_first_station.to_csv(filename, index=False)"
   ]
  },
  {
   "cell_type": "code",
   "execution_count": 46,
   "metadata": {},
   "outputs": [],
   "source": [
    "## to store in file unique second station\n",
    "#filename_frst= f'IN {second} NOT {primary}'\n",
    "#unique_scnd_station.to_csv(filename, index=False)"
   ]
  },
  {
   "cell_type": "markdown",
   "metadata": {},
   "source": [
    "3. Is station's (nrj.csv) playlist coppied by other stations? (On how many songs do the stations overlap on?) "
   ]
  },
  {
   "cell_type": "code",
   "execution_count": 47,
   "metadata": {},
   "outputs": [],
   "source": [
    "nrj_stat= frame[frame[\"station\"]==\"EnergyBE/ZH/BS\"][[\"artist\", \"song\"]]\n",
    "new_frame = frame.drop(nrj_stat.index)"
   ]
  },
  {
   "cell_type": "code",
   "execution_count": 48,
   "metadata": {},
   "outputs": [
    {
     "ename": "FileNotFoundError",
     "evalue": "[Errno 2] No such file or directory: 'copy/c_data\\\\20minfr.csv'",
     "output_type": "error",
     "traceback": [
      "\u001b[1;31m---------------------------------------------------------------------------\u001b[0m",
      "\u001b[1;31mFileNotFoundError\u001b[0m                         Traceback (most recent call last)",
      "\u001b[1;32m<ipython-input-48-6d1eea598a37>\u001b[0m in \u001b[0;36m<module>\u001b[1;34m\u001b[0m\n\u001b[0;32m      9\u001b[0m     \u001b[0mboth_playlist\u001b[0m\u001b[1;33m=\u001b[0m \u001b[0mdf_all\u001b[0m\u001b[1;33m[\u001b[0m\u001b[0mdf_all\u001b[0m\u001b[1;33m[\u001b[0m\u001b[1;34m\"_merge\"\u001b[0m\u001b[1;33m]\u001b[0m\u001b[1;33m==\u001b[0m\u001b[1;34m\"both\"\u001b[0m\u001b[1;33m]\u001b[0m\u001b[1;33m[\u001b[0m\u001b[1;33m[\u001b[0m\u001b[1;34m\"artist\"\u001b[0m\u001b[1;33m,\u001b[0m \u001b[1;34m\"song\"\u001b[0m\u001b[1;33m]\u001b[0m\u001b[1;33m]\u001b[0m\u001b[1;33m\u001b[0m\u001b[1;33m\u001b[0m\u001b[0m\n\u001b[0;32m     10\u001b[0m     \u001b[1;31m#store playlist\u001b[0m\u001b[1;33m\u001b[0m\u001b[1;33m\u001b[0m\u001b[1;33m\u001b[0m\u001b[0m\n\u001b[1;32m---> 11\u001b[1;33m     \u001b[0mboth_playlist\u001b[0m\u001b[1;33m.\u001b[0m\u001b[0mto_csv\u001b[0m\u001b[1;33m(\u001b[0m\u001b[1;34mf'copy/c_{item}'\u001b[0m\u001b[1;33m)\u001b[0m\u001b[1;33m\u001b[0m\u001b[1;33m\u001b[0m\u001b[0m\n\u001b[0m\u001b[0;32m     12\u001b[0m     \u001b[0msongs_list\u001b[0m\u001b[1;33m.\u001b[0m\u001b[0mappend\u001b[0m\u001b[1;33m(\u001b[0m\u001b[1;33m[\u001b[0m\u001b[0mitem\u001b[0m\u001b[1;33m,\u001b[0m \u001b[0mboth_playlist\u001b[0m\u001b[1;33m]\u001b[0m\u001b[1;33m)\u001b[0m\u001b[1;33m\u001b[0m\u001b[1;33m\u001b[0m\u001b[0m\n\u001b[0;32m     13\u001b[0m \u001b[1;33m\u001b[0m\u001b[0m\n",
      "\u001b[1;32mD:\\Coding\\Anaconda\\lib\\site-packages\\pandas\\core\\generic.py\u001b[0m in \u001b[0;36mto_csv\u001b[1;34m(self, path_or_buf, sep, na_rep, float_format, columns, header, index, index_label, mode, encoding, compression, quoting, quotechar, line_terminator, chunksize, date_format, doublequote, escapechar, decimal)\u001b[0m\n\u001b[0;32m   3202\u001b[0m             \u001b[0mdecimal\u001b[0m\u001b[1;33m=\u001b[0m\u001b[0mdecimal\u001b[0m\u001b[1;33m,\u001b[0m\u001b[1;33m\u001b[0m\u001b[1;33m\u001b[0m\u001b[0m\n\u001b[0;32m   3203\u001b[0m         )\n\u001b[1;32m-> 3204\u001b[1;33m         \u001b[0mformatter\u001b[0m\u001b[1;33m.\u001b[0m\u001b[0msave\u001b[0m\u001b[1;33m(\u001b[0m\u001b[1;33m)\u001b[0m\u001b[1;33m\u001b[0m\u001b[1;33m\u001b[0m\u001b[0m\n\u001b[0m\u001b[0;32m   3205\u001b[0m \u001b[1;33m\u001b[0m\u001b[0m\n\u001b[0;32m   3206\u001b[0m         \u001b[1;32mif\u001b[0m \u001b[0mpath_or_buf\u001b[0m \u001b[1;32mis\u001b[0m \u001b[1;32mNone\u001b[0m\u001b[1;33m:\u001b[0m\u001b[1;33m\u001b[0m\u001b[1;33m\u001b[0m\u001b[0m\n",
      "\u001b[1;32mD:\\Coding\\Anaconda\\lib\\site-packages\\pandas\\io\\formats\\csvs.py\u001b[0m in \u001b[0;36msave\u001b[1;34m(self)\u001b[0m\n\u001b[0;32m    182\u001b[0m             \u001b[0mclose\u001b[0m \u001b[1;33m=\u001b[0m \u001b[1;32mFalse\u001b[0m\u001b[1;33m\u001b[0m\u001b[1;33m\u001b[0m\u001b[0m\n\u001b[0;32m    183\u001b[0m         \u001b[1;32melse\u001b[0m\u001b[1;33m:\u001b[0m\u001b[1;33m\u001b[0m\u001b[1;33m\u001b[0m\u001b[0m\n\u001b[1;32m--> 184\u001b[1;33m             f, handles = get_handle(\n\u001b[0m\u001b[0;32m    185\u001b[0m                 \u001b[0mself\u001b[0m\u001b[1;33m.\u001b[0m\u001b[0mpath_or_buf\u001b[0m\u001b[1;33m,\u001b[0m\u001b[1;33m\u001b[0m\u001b[1;33m\u001b[0m\u001b[0m\n\u001b[0;32m    186\u001b[0m                 \u001b[0mself\u001b[0m\u001b[1;33m.\u001b[0m\u001b[0mmode\u001b[0m\u001b[1;33m,\u001b[0m\u001b[1;33m\u001b[0m\u001b[1;33m\u001b[0m\u001b[0m\n",
      "\u001b[1;32mD:\\Coding\\Anaconda\\lib\\site-packages\\pandas\\io\\common.py\u001b[0m in \u001b[0;36mget_handle\u001b[1;34m(path_or_buf, mode, encoding, compression, memory_map, is_text)\u001b[0m\n\u001b[0;32m    426\u001b[0m         \u001b[1;32mif\u001b[0m \u001b[0mencoding\u001b[0m\u001b[1;33m:\u001b[0m\u001b[1;33m\u001b[0m\u001b[1;33m\u001b[0m\u001b[0m\n\u001b[0;32m    427\u001b[0m             \u001b[1;31m# Encoding\u001b[0m\u001b[1;33m\u001b[0m\u001b[1;33m\u001b[0m\u001b[1;33m\u001b[0m\u001b[0m\n\u001b[1;32m--> 428\u001b[1;33m             \u001b[0mf\u001b[0m \u001b[1;33m=\u001b[0m \u001b[0mopen\u001b[0m\u001b[1;33m(\u001b[0m\u001b[0mpath_or_buf\u001b[0m\u001b[1;33m,\u001b[0m \u001b[0mmode\u001b[0m\u001b[1;33m,\u001b[0m \u001b[0mencoding\u001b[0m\u001b[1;33m=\u001b[0m\u001b[0mencoding\u001b[0m\u001b[1;33m,\u001b[0m \u001b[0mnewline\u001b[0m\u001b[1;33m=\u001b[0m\u001b[1;34m\"\"\u001b[0m\u001b[1;33m)\u001b[0m\u001b[1;33m\u001b[0m\u001b[1;33m\u001b[0m\u001b[0m\n\u001b[0m\u001b[0;32m    429\u001b[0m         \u001b[1;32melif\u001b[0m \u001b[0mis_text\u001b[0m\u001b[1;33m:\u001b[0m\u001b[1;33m\u001b[0m\u001b[1;33m\u001b[0m\u001b[0m\n\u001b[0;32m    430\u001b[0m             \u001b[1;31m# No explicit encoding\u001b[0m\u001b[1;33m\u001b[0m\u001b[1;33m\u001b[0m\u001b[1;33m\u001b[0m\u001b[0m\n",
      "\u001b[1;31mFileNotFoundError\u001b[0m: [Errno 2] No such file or directory: 'copy/c_data\\\\20minfr.csv'"
     ]
    }
   ],
   "source": [
    "all_stations= new_frame[\"station\"].unique()\n",
    "songs_list= []\n",
    "\n",
    "for item in all_stations:\n",
    "    df2=frame[frame[\"station\"]==item][[\"artist\", \"song\"]]\n",
    "    df_all = df1.merge(df2.drop_duplicates(), on=['artist','song'], \n",
    "                   how='left', indicator=True)\n",
    "    #what are the similar songs\n",
    "    both_playlist= df_all[df_all[\"_merge\"]==\"both\"][[\"artist\", \"song\"]]\n",
    "    #store playlist\n",
    "    both_playlist.to_csv(f'copy/c_{item}.csv')\n",
    "    songs_list.append([item, both_playlist])\n",
    "    \n"
   ]
  },
  {
   "cell_type": "code",
   "execution_count": 39,
   "metadata": {},
   "outputs": [
    {
     "data": {
      "text/plain": [
       "[['Radio Rottu Oberwallis',\n",
       "                           artist                  song\n",
       "  1               Imagine Dragons               Natural\n",
       "  2                  Loco Escrito                 Ámame\n",
       "  3                           Sia            Chandelier\n",
       "  4                 Avril Lavigne      Head Above Water\n",
       "  5               Michael Jackson              Thriller\n",
       "  ...                         ...                   ...\n",
       "  128760                    Hecht              Prosecco\n",
       "  128761           Ellie Goulding                Lights\n",
       "  128762  P!Nk + Willow Sage Hart  Cover Me In Sunshine\n",
       "  128763            Kings Of Leon          Use Somebody\n",
       "  128764                     Zian              Grateful\n",
       "  \n",
       "  [120795 rows x 2 columns]],\n",
       " ['Radio Zürichsee',\n",
       "                           artist                  song\n",
       "  1               Imagine Dragons               Natural\n",
       "  2                  Loco Escrito                 Ámame\n",
       "  3                           Sia            Chandelier\n",
       "  4                 Avril Lavigne      Head Above Water\n",
       "  5               Michael Jackson              Thriller\n",
       "  ...                         ...                   ...\n",
       "  128759      The Black Eyed Peas       I Gotta Feeling\n",
       "  128760                    Hecht              Prosecco\n",
       "  128762  P!Nk + Willow Sage Hart  Cover Me In Sunshine\n",
       "  128763            Kings Of Leon          Use Somebody\n",
       "  128764                     Zian              Grateful\n",
       "  \n",
       "  [110250 rows x 2 columns]],\n",
       " ['Neo 1',\n",
       "                           artist                  song\n",
       "  1               Imagine Dragons               Natural\n",
       "  2                  Loco Escrito                 Ámame\n",
       "  3                           Sia            Chandelier\n",
       "  4                 Avril Lavigne      Head Above Water\n",
       "  5               Michael Jackson              Thriller\n",
       "  ...                         ...                   ...\n",
       "  128760                    Hecht              Prosecco\n",
       "  128761           Ellie Goulding                Lights\n",
       "  128762  P!Nk + Willow Sage Hart  Cover Me In Sunshine\n",
       "  128763            Kings Of Leon          Use Somebody\n",
       "  128764                     Zian              Grateful\n",
       "  \n",
       "  [110370 rows x 2 columns]],\n",
       " ['20 Minuten Französisch',\n",
       "                            artist                   song\n",
       "  3                            Sia             Chandelier\n",
       "  4                  Avril Lavigne       Head Above Water\n",
       "  6             Vize & Tom Gregory      Never Let Me Down\n",
       "  8                     Aloe Blacc                 My Way\n",
       "  11                    Ray Dalton  Good Times Hard Times\n",
       "  ...                          ...                    ...\n",
       "  128748                   Ava Max        Everytime I Cry\n",
       "  128754    Kygo & Whitney Houston            Higher Love\n",
       "  128756                Dean Lewis             Be Alright\n",
       "  128757  Robin Schulz Feat. Kiddo             All We Got\n",
       "  128762   P!Nk + Willow Sage Hart   Cover Me In Sunshine\n",
       "  \n",
       "  [48861 rows x 2 columns]],\n",
       " ['Radio Südostschweiz',\n",
       "                           artist                  song\n",
       "  1               Imagine Dragons               Natural\n",
       "  2                  Loco Escrito                 Ámame\n",
       "  3                           Sia            Chandelier\n",
       "  4                 Avril Lavigne      Head Above Water\n",
       "  5               Michael Jackson              Thriller\n",
       "  ...                         ...                   ...\n",
       "  128758               Ed Sheeran        Visiting Hours\n",
       "  128760                    Hecht              Prosecco\n",
       "  128762  P!Nk + Willow Sage Hart  Cover Me In Sunshine\n",
       "  128763            Kings Of Leon          Use Somebody\n",
       "  128764                     Zian              Grateful\n",
       "  \n",
       "  [118202 rows x 2 columns]],\n",
       " ['Radio Sunshine',\n",
       "                           artist                  song\n",
       "  1               Imagine Dragons               Natural\n",
       "  2                  Loco Escrito                 Ámame\n",
       "  3                           Sia            Chandelier\n",
       "  4                 Avril Lavigne      Head Above Water\n",
       "  5               Michael Jackson              Thriller\n",
       "  ...                         ...                   ...\n",
       "  128760                    Hecht              Prosecco\n",
       "  128761           Ellie Goulding                Lights\n",
       "  128762  P!Nk + Willow Sage Hart  Cover Me In Sunshine\n",
       "  128763            Kings Of Leon          Use Somebody\n",
       "  128764                     Zian              Grateful\n",
       "  \n",
       "  [125025 rows x 2 columns]],\n",
       " ['Radio Munot',\n",
       "                           artist                  song\n",
       "  1               Imagine Dragons               Natural\n",
       "  2                  Loco Escrito                 Ámame\n",
       "  3                           Sia            Chandelier\n",
       "  4                 Avril Lavigne      Head Above Water\n",
       "  5               Michael Jackson              Thriller\n",
       "  ...                         ...                   ...\n",
       "  128760                    Hecht              Prosecco\n",
       "  128761           Ellie Goulding                Lights\n",
       "  128762  P!Nk + Willow Sage Hart  Cover Me In Sunshine\n",
       "  128763            Kings Of Leon          Use Somebody\n",
       "  128764                     Zian              Grateful\n",
       "  \n",
       "  [89127 rows x 2 columns]],\n",
       " ['Radio SRF1',\n",
       "                            artist                  song\n",
       "  2                   Loco Escrito                 Ámame\n",
       "  5                Michael Jackson              Thriller\n",
       "  6             Vize & Tom Gregory     Never Let Me Down\n",
       "  8                     Aloe Blacc                My Way\n",
       "  9             Stefanie Heinzmann               Shadows\n",
       "  ...                          ...                   ...\n",
       "  128757  Robin Schulz Feat. Kiddo            All We Got\n",
       "  128758                Ed Sheeran        Visiting Hours\n",
       "  128759       The Black Eyed Peas       I Gotta Feeling\n",
       "  128760                     Hecht              Prosecco\n",
       "  128762   P!Nk + Willow Sage Hart  Cover Me In Sunshine\n",
       "  \n",
       "  [64741 rows x 2 columns]],\n",
       " ['Radio FM1',\n",
       "                           artist                  song\n",
       "  1               Imagine Dragons               Natural\n",
       "  2                  Loco Escrito                 Ámame\n",
       "  4                 Avril Lavigne      Head Above Water\n",
       "  5               Michael Jackson              Thriller\n",
       "  6            Vize & Tom Gregory     Never Let Me Down\n",
       "  ...                         ...                   ...\n",
       "  128760                    Hecht              Prosecco\n",
       "  128761           Ellie Goulding                Lights\n",
       "  128762  P!Nk + Willow Sage Hart  Cover Me In Sunshine\n",
       "  128763            Kings Of Leon          Use Somebody\n",
       "  128764                     Zian              Grateful\n",
       "  \n",
       "  [119305 rows x 2 columns]],\n",
       " ['Radio Argovia',\n",
       "                           artist                  song\n",
       "  0                        Artist              Songname\n",
       "  1               Imagine Dragons               Natural\n",
       "  2                  Loco Escrito                 Ámame\n",
       "  3                           Sia            Chandelier\n",
       "  4                 Avril Lavigne      Head Above Water\n",
       "  ...                         ...                   ...\n",
       "  128760                    Hecht              Prosecco\n",
       "  128761           Ellie Goulding                Lights\n",
       "  128762  P!Nk + Willow Sage Hart  Cover Me In Sunshine\n",
       "  128763            Kings Of Leon          Use Somebody\n",
       "  128764                     Zian              Grateful\n",
       "  \n",
       "  [128765 rows x 2 columns]],\n",
       " ['Radio Liechtenstein',\n",
       "                           artist                  song\n",
       "  1               Imagine Dragons               Natural\n",
       "  2                  Loco Escrito                 Ámame\n",
       "  3                           Sia            Chandelier\n",
       "  4                 Avril Lavigne      Head Above Water\n",
       "  5               Michael Jackson              Thriller\n",
       "  ...                         ...                   ...\n",
       "  128759      The Black Eyed Peas       I Gotta Feeling\n",
       "  128760                    Hecht              Prosecco\n",
       "  128761           Ellie Goulding                Lights\n",
       "  128762  P!Nk + Willow Sage Hart  Cover Me In Sunshine\n",
       "  128763            Kings Of Leon          Use Somebody\n",
       "  \n",
       "  [105859 rows x 2 columns]],\n",
       " ['Radio 24',\n",
       "                           artist                  song\n",
       "  1               Imagine Dragons               Natural\n",
       "  2                  Loco Escrito                 Ámame\n",
       "  3                           Sia            Chandelier\n",
       "  4                 Avril Lavigne      Head Above Water\n",
       "  5               Michael Jackson              Thriller\n",
       "  ...                         ...                   ...\n",
       "  128760                    Hecht              Prosecco\n",
       "  128761           Ellie Goulding                Lights\n",
       "  128762  P!Nk + Willow Sage Hart  Cover Me In Sunshine\n",
       "  128763            Kings Of Leon          Use Somebody\n",
       "  128764                     Zian              Grateful\n",
       "  \n",
       "  [124866 rows x 2 columns]],\n",
       " ['Radio Basilisk',\n",
       "                           artist                  song\n",
       "  1               Imagine Dragons               Natural\n",
       "  2                  Loco Escrito                 Ámame\n",
       "  3                           Sia            Chandelier\n",
       "  4                 Avril Lavigne      Head Above Water\n",
       "  5               Michael Jackson              Thriller\n",
       "  ...                         ...                   ...\n",
       "  128760                    Hecht              Prosecco\n",
       "  128761           Ellie Goulding                Lights\n",
       "  128762  P!Nk + Willow Sage Hart  Cover Me In Sunshine\n",
       "  128763            Kings Of Leon          Use Somebody\n",
       "  128764                     Zian              Grateful\n",
       "  \n",
       "  [118040 rows x 2 columns]]]"
      ]
     },
     "execution_count": 39,
     "metadata": {},
     "output_type": "execute_result"
    }
   ],
   "source": [
    "## all the common songs together \n",
    "songs_list"
   ]
  },
  {
   "cell_type": "code",
   "execution_count": null,
   "metadata": {},
   "outputs": [],
   "source": []
  }
 ],
 "metadata": {
  "kernelspec": {
   "display_name": "Python 3",
   "language": "python",
   "name": "python3"
  },
  "language_info": {
   "codemirror_mode": {
    "name": "ipython",
    "version": 3
   },
   "file_extension": ".py",
   "mimetype": "text/x-python",
   "name": "python",
   "nbconvert_exporter": "python",
   "pygments_lexer": "ipython3",
   "version": "3.8.3"
  }
 },
 "nbformat": 4,
 "nbformat_minor": 4
}
